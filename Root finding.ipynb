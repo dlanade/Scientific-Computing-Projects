{
 "cells": [
  {
   "cell_type": "markdown",
   "metadata": {},
   "source": [
    "# Project 9: Root Finding (e.g., Newton's Algorithm)\n",
    "## Abstract\n",
    "In this project, we're exploring algorithms for finding roots of arbitrary functions. I applied root finding techniques to finding energy eigenstates and values of a certain potential energy function V(x) in an infinite well of width 1. I used a potential energy function of 500 * x, one that would produce wavefunctions that is noticeably different from a well with a V(x) of 0. I got the Energy Eigenvalues for the first six energy states and their wave functions. One could validate the wave functions produced by confirming if they have the characteristics of valid wave functions which they did. This confirmed their validity.\n",
    "## Description\n",
    "In mathematics and computing, a root-finding algorithm is an algorithm for finding zeroes, also called \"roots\", of continuous functions. A zero of a function f, from the real numbers to real numbers or from the complex numbers to the complex numbers, is a number x such that f(x) = 0. As, generally, the zeroes of a function cannot be computed exactly nor expressed in closed form, root-finding algorithms provide approximations to zeroes, expressed either as floating point numbers or as small isolating intervals, or disks for complex roots (an interval or disk output being equivalent to an approximate output together with an error bound).\n",
    "\n",
    "Solving an equation f(x) = g(x) is the same as finding the roots of the function h(x) = f(x) – g(x). Thus root-finding algorithms allow solving any equation defined by continuous functions. However, most root-finding algorithms do not guarantee that they will find all the roots; in particular, if such an algorithm does not find any root, that does not mean that no root exists.\n",
    "\n",
    "Most numerical root-finding methods use iteration, producing a sequence of numbers that hopefully converge towards the root as a limit. They require one or more initial guesses of the root as starting values, then each iteration of the algorithm produces a successively more accurate approximation to the root. Since the iteration must be stopped at some point these methods produce an approximation to the root, not an exact solution. Many methods compute subsequent values by evaluating an auxiliary function on the preceding values. The limit is thus a fixed point of the auxiliary function, which is chosen for having the roots of the original equation as fixed points, and for converging rapidly to these fixed points.\n",
    "## Algorithm and Discussion\n",
    "In this project, we wanted to compute energy states of a potential in an infinite well, produce graphs of the wavefunction in a few energy states and validate our results. Due to the fact that we don't have an analytical expression for the derivative of the wave function, using the newton's method of root finding would be tricky. Therefore, we employed the use a python function, brentq. This function finds root of a function in a bracketing interval using Brent’s method. It finds a zero of a function f on the sign changing interval [a , b]. We used this function to find the energy value for which the wavefunction starts at zero and ends at zero for x. This function works when you give it a hint of where the zeroes could be, we did this by giving the function a sign changing interval. We used the energy at which the wave function is zero at the endpoints to plot the wave function. We validated these wave function graphs by confirming if they had characteristics of valid wave functions. The characterstics include: \n",
    "\n",
    "$\\bullet$ The wave function (energy eigenfunction) must tend to a finite value (zero for bound-state solutions and a constant for scattering solutions) as x →  ± ∞.\n",
    "\n",
    "$\\bullet$ The wave function (energy eigenfunction) must be continuous and single valued.\n",
    "\n",
    "$\\bullet$ The wave function (energy eigenfunction) must be twice differentiable. In other words, the wave function's (energy eigenfunction's) first derivative must be continuous.\n",
    "\n",
    "$\\bullet$ An energy bound state, n, should have n - 1 nodes."
   ]
  },
  {
   "cell_type": "markdown",
   "metadata": {},
   "source": [
    "## Implementation and Code\n",
    "I used a potential function of $ V(x) = 500 * x $. We can ues Runge Kutta method to integrate Schrodinger's Equation from $x=0$ to $x=L$, over the width of our well. \n",
    "$$-\\frac{\\hbar^2}{2m} \\psi''(x) + V(x)\\psi(x) = E\\psi(x)$$$$\\psi'' = \\frac{2m}{\\hbar^2}\\left(V(x)-E\\right)\\psi(x)$$"
   ]
  },
  {
   "cell_type": "code",
   "execution_count": 556,
   "metadata": {},
   "outputs": [],
   "source": [
    "%matplotlib inline\n",
    "import pandas as pd\n",
    "import matplotlib.pyplot as pl \n",
    "import numpy as np\n",
    "import sympy as sp\n",
    "from scipy.optimize import brentq"
   ]
  },
  {
   "cell_type": "code",
   "execution_count": 557,
   "metadata": {},
   "outputs": [],
   "source": [
    "def V(x, a=3.0):\n",
    "\n",
    "    \"\"\"\n",
    "    Here's an example potential V(x)=0.0\n",
    "    \"\"\"\n",
    "    return 500 * x\n",
    "\n",
    "psi0, psip0 = 0.0, 1.0   # start psi and psi'  at $x=0$.\n",
    "s=np.array([psi0, psip0])\n",
    "\n",
    "hbar=1.0  # pick convenient units\n",
    "m=1.0\n",
    "L=1.0\n",
    "\n",
    "x = 0.0\n",
    "dx = L/100\n",
    "\n",
    "def RK4Step(s, x, derivs, dx, E):\n",
    "    \"\"\"\n",
    "    Take a single RK4 step. (our old friend)\n",
    "    But this time we're integrating in 'x', not 't'.\n",
    "    \"\"\"\n",
    "    dxh=dx/2.0\n",
    "    f1 = derivs(s, x, E)\n",
    "    f2 = derivs(s+f1*dxh, x+dxh, E)\n",
    "    f3 = derivs(s+f2*dxh, x+dxh, E)\n",
    "    f4 = derivs(s+f3*dx, x+dx, E)\n",
    "    return s + (f1+2*f2+2*f3+f4)*dx/6.0\n",
    "\n",
    "def SWE_derivs(s, x, E):\n",
    "    psi=s[0]\n",
    "    psip=s[1]\n",
    "    \n",
    "    psipp =(2*m/hbar**2)*(V(x)-E)*psi\n",
    "    return np.array([psip, psipp])"
   ]
  },
  {
   "cell_type": "code",
   "execution_count": 558,
   "metadata": {},
   "outputs": [],
   "source": [
    "def calcBC(E):\n",
    "    \"\"\"\n",
    "    Compute the value of psi(x) at x=L for a given value of E\n",
    "    assuming psi(0) is zero.\n",
    "    \"\"\"\n",
    "    s=np.array([psi0, psip0])\n",
    "    x=0.0\n",
    "    while x<L:\n",
    "        s=RK4Step(s, x, SWE_derivs, dx, E)\n",
    "        x+=dx\n",
    "\n",
    "    return s[0]"
   ]
  },
  {
   "cell_type": "markdown",
   "metadata": {},
   "source": [
    "We provide the brentq function a sign changing interval and call the calcBC function which calculates the Energy eigenvalue for the wave function."
   ]
  },
  {
   "cell_type": "code",
   "execution_count": 559,
   "metadata": {},
   "outputs": [
    {
     "name": "stdout",
     "output_type": "stream",
     "text": [
      "BC at E=116.9055: 0.013228630958555821\n",
      "BC at E=116.90555: -0.09048816394027163\n"
     ]
    }
   ],
   "source": [
    "print (\"BC at E=116.9055:\",calcBC(116.9055))\n",
    "print (\"BC at E=116.90555:\",calcBC(116.90555))"
   ]
  },
  {
   "cell_type": "code",
   "execution_count": 560,
   "metadata": {},
   "outputs": [
    {
     "data": {
      "text/plain": [
       "116.90550637726967"
      ]
     },
     "execution_count": 560,
     "metadata": {},
     "output_type": "execute_result"
    }
   ],
   "source": [
    "Ezero1 = brentq(calcBC, 116.9055, 116.90555)  # find \"root\" with brentq\n",
    "Ezero1"
   ]
  },
  {
   "cell_type": "markdown",
   "metadata": {},
   "source": [
    "We plot our wavefunction with result gotten from the application of Brent's method from the brentq function."
   ]
  },
  {
   "cell_type": "code",
   "execution_count": 561,
   "metadata": {},
   "outputs": [
    {
     "data": {
      "text/plain": [
       "Text(0, 0.5, 'psi(x)')"
      ]
     },
     "execution_count": 561,
     "metadata": {},
     "output_type": "execute_result"
    },
    {
     "data": {
      "image/png": "[encoded data removed]",
      "text/plain": [
       "<Figure size 432x288 with 1 Axes>"
      ]
     },
     "metadata": {
      "needs_background": "light"
     },
     "output_type": "display_data"
    }
   ],
   "source": [
    "def calcBC_wPsi(E):\n",
    "    \"\"\"\n",
    "    Compute the value of psi(x) at x=L for a given value of E\n",
    "    assuming psi(0) is zero.\n",
    "    \"\"\"\n",
    "    s=np.array([psi0, psip0])\n",
    "    x=0.0\n",
    "    xList=[x]\n",
    "    psiList=[psi0]\n",
    "    \n",
    "    while x<L:\n",
    "        s=RK4Step(s, x, SWE_derivs, dx, E)\n",
    "        x+=dx\n",
    "        xList.append(x)\n",
    "        psiList.append(s[0])\n",
    "\n",
    "    return xList, psiList\n",
    "\n",
    "xList, psiList = calcBC_wPsi(Ezero1)\n",
    "pl.plot(xList, psiList, 'b-')\n",
    "pl.grid()\n",
    "pl.title(\"Wave function of the Ground State\")\n",
    "pl.xlabel(\"x\")\n",
    "pl.ylabel(\"psi(x)\")"
   ]
  },
  {
   "cell_type": "markdown",
   "metadata": {},
   "source": [
    "I repeated the same process above for 5 more energy levels. I plotted the wave functions for n = 1 to n = 6."
   ]
  },
  {
   "cell_type": "code",
   "execution_count": 562,
   "metadata": {},
   "outputs": [
    {
     "name": "stdout",
     "output_type": "stream",
     "text": [
      "BC at E=204.4: 0.04645544340305957\n",
      "BC at E=204.39: -0.22073967161715574\n"
     ]
    }
   ],
   "source": [
    "print (\"BC at E=204.4:\",calcBC(204.4))\n",
    "print (\"BC at E=204.39:\",calcBC(204.39))"
   ]
  },
  {
   "cell_type": "code",
   "execution_count": 563,
   "metadata": {},
   "outputs": [
    {
     "data": {
      "text/plain": [
       "204.3982606804746"
      ]
     },
     "execution_count": 563,
     "metadata": {},
     "output_type": "execute_result"
    }
   ],
   "source": [
    "Ezero2 = brentq(calcBC, 204.4, 204.39)  # find \"root\" with brentq\n",
    "Ezero2"
   ]
  },
  {
   "cell_type": "code",
   "execution_count": 564,
   "metadata": {},
   "outputs": [
    {
     "data": {
      "text/plain": [
       "Text(0, 0.5, 'psi(x)')"
      ]
     },
     "execution_count": 564,
     "metadata": {},
     "output_type": "execute_result"
    },
    {
     "data": {
      "image/png": "[encoded data removed]",
      "text/plain": [
       "<Figure size 432x288 with 1 Axes>"
      ]
     },
     "metadata": {
      "needs_background": "light"
     },
     "output_type": "display_data"
    }
   ],
   "source": [
    "def calcBC_wPsi(E):\n",
    "    \"\"\"\n",
    "    Compute the value of psi(x) at x=L for a given value of E\n",
    "    assuming psi(0) is zero.\n",
    "    \"\"\"\n",
    "    s=np.array([psi0, psip0])\n",
    "    x=0.0\n",
    "    xList=[x]\n",
    "    psiList=[psi0]\n",
    "    \n",
    "    while x<L:\n",
    "        s=RK4Step(s, x, SWE_derivs, dx, E)\n",
    "        x+=dx\n",
    "        xList.append(x)\n",
    "        psiList.append(s[0])\n",
    "\n",
    "    return xList, psiList\n",
    "\n",
    "xList, psiList = calcBC_wPsi(Ezero2)\n",
    "pl.plot(xList, psiList, 'b-')\n",
    "pl.grid()\n",
    "pl.title(\"Wave function of the First Excited State\")\n",
    "pl.xlabel(\"x\")\n",
    "pl.ylabel(\"psi(x)\")"
   ]
  },
  {
   "cell_type": "code",
   "execution_count": 565,
   "metadata": {},
   "outputs": [
    {
     "name": "stdout",
     "output_type": "stream",
     "text": [
      "BC at E=276.1: -0.08278579130594428\n",
      "BC at E=275.9: 0.15495120668765505\n"
     ]
    }
   ],
   "source": [
    "print (\"BC at E=276.1:\",calcBC(276.1))\n",
    "print (\"BC at E=275.9:\",calcBC(275.9))"
   ]
  },
  {
   "cell_type": "code",
   "execution_count": 566,
   "metadata": {},
   "outputs": [
    {
     "data": {
      "text/plain": [
       "276.0299815179757"
      ]
     },
     "execution_count": 566,
     "metadata": {},
     "output_type": "execute_result"
    }
   ],
   "source": [
    "Ezero3 = brentq(calcBC, 276.1, 275.9)  # find \"root\" with brentq\n",
    "Ezero3"
   ]
  },
  {
   "cell_type": "code",
   "execution_count": 567,
   "metadata": {},
   "outputs": [
    {
     "data": {
      "text/plain": [
       "Text(0, 0.5, 'psi(x)')"
      ]
     },
     "execution_count": 567,
     "metadata": {},
     "output_type": "execute_result"
    },
    {
     "data": {
      "image/png": "[encoded data removed]",
      "text/plain": [
       "<Figure size 432x288 with 1 Axes>"
      ]
     },
     "metadata": {
      "needs_background": "light"
     },
     "output_type": "display_data"
    }
   ],
   "source": [
    "def calcBC_wPsi(E):\n",
    "    \"\"\"\n",
    "    Compute the value of psi(x) at x=L for a given value of E\n",
    "    assuming psi(0) is zero.\n",
    "    \"\"\"\n",
    "    s=np.array([psi0, psip0])\n",
    "    x=0.0\n",
    "    xList=[x]\n",
    "    psiList=[psi0]\n",
    "    \n",
    "    while x<L:\n",
    "        s=RK4Step(s, x, SWE_derivs, dx, E)\n",
    "        x+=dx\n",
    "        xList.append(x)\n",
    "        psiList.append(s[0])\n",
    "\n",
    "    return xList, psiList\n",
    "\n",
    "xList, psiList = calcBC_wPsi(Ezero3)\n",
    "pl.plot(xList, psiList, 'b-')\n",
    "pl.grid()\n",
    "pl.title(\"Wave function of the Second Excited State\")\n",
    "pl.xlabel(\"x\")\n",
    "pl.ylabel(\"psi(x)\")"
   ]
  },
  {
   "cell_type": "code",
   "execution_count": 568,
   "metadata": {},
   "outputs": [
    {
     "name": "stdout",
     "output_type": "stream",
     "text": [
      "BC at E=339: -0.03979845789479233\n",
      "BC at E=340: 0.07356990033024659\n"
     ]
    }
   ],
   "source": [
    "print (\"BC at E=339:\",calcBC(339))\n",
    "print (\"BC at E=340:\",calcBC(340))"
   ]
  },
  {
   "cell_type": "code",
   "execution_count": 569,
   "metadata": {},
   "outputs": [
    {
     "data": {
      "text/plain": [
       "339.3433090398662"
      ]
     },
     "execution_count": 569,
     "metadata": {},
     "output_type": "execute_result"
    }
   ],
   "source": [
    "Ezero4 = brentq(calcBC, 339, 340)  # find \"root\" with brentq\n",
    "Ezero4"
   ]
  },
  {
   "cell_type": "code",
   "execution_count": 570,
   "metadata": {},
   "outputs": [
    {
     "data": {
      "text/plain": [
       "Text(0, 0.5, 'psi(x)')"
      ]
     },
     "execution_count": 570,
     "metadata": {},
     "output_type": "execute_result"
    },
    {
     "data": {
      "image/png": "[encoded data removed]",
      "text/plain": [
       "<Figure size 432x288 with 1 Axes>"
      ]
     },
     "metadata": {
      "needs_background": "light"
     },
     "output_type": "display_data"
    }
   ],
   "source": [
    "def calcBC_wPsi(E):\n",
    "    \"\"\"\n",
    "    Compute the value of psi(x) at x=L for a given value of E\n",
    "    assuming psi(0) is zero.\n",
    "    \"\"\"\n",
    "    s=np.array([psi0, psip0])\n",
    "    x=0.0\n",
    "    xList=[x]\n",
    "    psiList=[psi0]\n",
    "    \n",
    "    while x<L:\n",
    "        s=RK4Step(s, x, SWE_derivs, dx, E)\n",
    "        x+=dx\n",
    "        xList.append(x)\n",
    "        psiList.append(s[0])\n",
    "\n",
    "    return xList, psiList\n",
    "\n",
    "xList, psiList = calcBC_wPsi(Ezero4)\n",
    "pl.plot(xList, psiList, 'b-')\n",
    "pl.grid()\n",
    "pl.title(\"Wave function of the Third Excited State\")\n",
    "pl.xlabel(\"x\")\n",
    "pl.ylabel(\"psi(x)\")"
   ]
  },
  {
   "cell_type": "code",
   "execution_count": 571,
   "metadata": {},
   "outputs": [
    {
     "name": "stdout",
     "output_type": "stream",
     "text": [
      "BC at E=396.8: 0.0121172748794438\n",
      "BC at E=397.8: -0.008739893624896578\n"
     ]
    }
   ],
   "source": [
    "print (\"BC at E=396.8:\",calcBC(396.8))\n",
    "print (\"BC at E=397.8:\",calcBC(397.8))"
   ]
  },
  {
   "cell_type": "code",
   "execution_count": 572,
   "metadata": {},
   "outputs": [
    {
     "data": {
      "text/plain": [
       "397.37474460112355"
      ]
     },
     "execution_count": 572,
     "metadata": {},
     "output_type": "execute_result"
    }
   ],
   "source": [
    "Ezero5 = brentq(calcBC, 397.8, 396.8)  # find \"root\" with brentq\n",
    "Ezero5"
   ]
  },
  {
   "cell_type": "code",
   "execution_count": 573,
   "metadata": {},
   "outputs": [
    {
     "data": {
      "text/plain": [
       "Text(0, 0.5, 'psi(x)')"
      ]
     },
     "execution_count": 573,
     "metadata": {},
     "output_type": "execute_result"
    },
    {
     "data": {
      "image/png": "[encoded data removed]",
      "text/plain": [
       "<Figure size 432x288 with 1 Axes>"
      ]
     },
     "metadata": {
      "needs_background": "light"
     },
     "output_type": "display_data"
    }
   ],
   "source": [
    "def calcBC_wPsi(E):\n",
    "    \"\"\"\n",
    "    Compute the value of psi(x) at x=L for a given value of E\n",
    "    assuming psi(0) is zero.\n",
    "    \"\"\"\n",
    "    s=np.array([psi0, psip0])\n",
    "    x=0.0\n",
    "    xList=[x]\n",
    "    psiList=[psi0]\n",
    "    \n",
    "    while x<L:\n",
    "        s=RK4Step(s, x, SWE_derivs, dx, E)\n",
    "        x+=dx\n",
    "        xList.append(x)\n",
    "        psiList.append(s[0])\n",
    "\n",
    "    return xList, psiList\n",
    "\n",
    "xList, psiList = calcBC_wPsi(Ezero5)\n",
    "pl.plot(xList, psiList, 'b-')\n",
    "pl.grid()\n",
    "pl.title(\"Wave function of the Fourth Excited State\")\n",
    "pl.xlabel(\"x\")\n",
    "pl.ylabel(\"psi(x)\")"
   ]
  },
  {
   "cell_type": "code",
   "execution_count": 574,
   "metadata": {},
   "outputs": [
    {
     "name": "stdout",
     "output_type": "stream",
     "text": [
      "BC at E=452.8: -0.0029066451860679135\n",
      "BC at E=453.8: 0.003645818324319622\n"
     ]
    }
   ],
   "source": [
    "print (\"BC at E=452.8:\",calcBC(452.8))\n",
    "print (\"BC at E=453.8:\",calcBC(453.8))"
   ]
  },
  {
   "cell_type": "code",
   "execution_count": 575,
   "metadata": {},
   "outputs": [
    {
     "data": {
      "text/plain": [
       "453.2397569771069"
      ]
     },
     "execution_count": 575,
     "metadata": {},
     "output_type": "execute_result"
    }
   ],
   "source": [
    "Ezero6 = brentq(calcBC, 452.8, 453.8)  # find \"root\" with brentq\n",
    "Ezero6"
   ]
  },
  {
   "cell_type": "code",
   "execution_count": 576,
   "metadata": {},
   "outputs": [
    {
     "data": {
      "text/plain": [
       "Text(0, 0.5, 'psi(x)')"
      ]
     },
     "execution_count": 576,
     "metadata": {},
     "output_type": "execute_result"
    },
    {
     "data": {
      "image/png": "[encoded data removed]",
      "text/plain": [
       "<Figure size 432x288 with 1 Axes>"
      ]
     },
     "metadata": {
      "needs_background": "light"
     },
     "output_type": "display_data"
    }
   ],
   "source": [
    "def calcBC_wPsi(E):\n",
    "    \"\"\"\n",
    "    Compute the value of psi(x) at x=L for a given value of E\n",
    "    assuming psi(0) is zero.\n",
    "    \"\"\"\n",
    "    s=np.array([psi0, psip0])\n",
    "    x=0.0\n",
    "    xList=[x]\n",
    "    psiList=[psi0]\n",
    "    \n",
    "    while x<L:\n",
    "        s=RK4Step(s, x, SWE_derivs, dx, E)\n",
    "        x+=dx\n",
    "        xList.append(x)\n",
    "        psiList.append(s[0])\n",
    "\n",
    "    return xList, psiList\n",
    "\n",
    "xList, psiList = calcBC_wPsi(Ezero6)\n",
    "pl.plot(xList, psiList, 'b-')\n",
    "pl.grid()\n",
    "pl.title(\"Wave function of the Fifth Excited State\")\n",
    "pl.xlabel(\"x\")\n",
    "pl.ylabel(\"psi(x)\")"
   ]
  },
  {
   "cell_type": "markdown",
   "metadata": {},
   "source": [
    "## Results and Discussion"
   ]
  },
  {
   "cell_type": "code",
   "execution_count": 577,
   "metadata": {},
   "outputs": [
    {
     "name": "stdout",
     "output_type": "stream",
     "text": [
      "Energy Eigenvalue for n = 1: 116.9055\n",
      "Energy Eigenvalue for n = 2: 204.3983\n",
      "Energy Eigenvalue for n = 3: 276.0300\n",
      "Energy Eigenvalue for n = 4: 339.3433\n",
      "Energy Eigenvalue for n = 5: 397.3747\n",
      "Energy Eigenvalue for n = 6: 453.2398\n"
     ]
    }
   ],
   "source": [
    "print (\"Energy Eigenvalue for n = 1: %5.4f\" % Ezero1)\n",
    "print (\"Energy Eigenvalue for n = 2: %5.4f\" % Ezero2)\n",
    "print (\"Energy Eigenvalue for n = 3: %5.4f\" % Ezero3)\n",
    "print (\"Energy Eigenvalue for n = 4: %5.4f\" % Ezero4)\n",
    "print (\"Energy Eigenvalue for n = 5: %5.4f\" % Ezero5)\n",
    "print (\"Energy Eigenvalue for n = 6: %5.4f\" % Ezero6)"
   ]
  },
  {
   "cell_type": "markdown",
   "metadata": {},
   "source": [
    "Above are the Energy Eigenstates and Energy eigenvalues of an infinite well of potential, $V(x) = 500 * x$"
   ]
  },
  {
   "cell_type": "markdown",
   "metadata": {},
   "source": [
    "If we take a look at the wave function graphs of this states, we can see the follow the characteristics of valid wave functions:\n",
    "\n",
    "$\\bullet$ The wave function (energy eigenfunction) must tend to a finite value (zero for bound-state solutions and a constant for scattering solutions) as x →  ± ∞.\n",
    "\n",
    "$\\bullet$ The wave function (energy eigenfunction) must be continuous and single valued.\n",
    "\n",
    "$\\bullet$ The wave function (energy eigenfunction) must be twice differentiable. In other words, the wave function's (energy eigenfunction's) first derivative must be continuous.\n",
    "\n",
    "$\\bullet$ An energy bound state, n, should have n - 1 nodes.\n",
    "\n",
    "We can see that for all graphs, they all approach zero as x increases, they are continuous, they have appropriate number of nodes. For example, for n = 6, the wave function graph crosses the x-axis 5 times."
   ]
  },
  {
   "cell_type": "markdown",
   "metadata": {},
   "source": [
    "## Conclusion\n",
    "We have used root finding techniques to compute energy eigen values for a potential in an infinite well and we plotted the wave function graphs for this. We did this for 6 bound states, this includes the bound state. We validated the wave functions produced by confirming if they have the characteristics of valid wave functions which they did."
   ]
  }
 ],
 "metadata": {
  "kernelspec": {
   "display_name": "Python 3",
   "language": "python",
   "name": "python3"
  },
  "language_info": {
   "codemirror_mode": {
    "name": "ipython",
    "version": 3
   },
   "file_extension": ".py",
   "mimetype": "text/x-python",
   "name": "python",
   "nbconvert_exporter": "python",
   "pygments_lexer": "ipython3",
   "version": "3.8.3"
  }
 },
 "nbformat": 4,
 "nbformat_minor": 2
}
