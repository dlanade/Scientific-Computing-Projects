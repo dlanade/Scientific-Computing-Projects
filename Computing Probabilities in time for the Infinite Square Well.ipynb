{
 "cells": [
  {
   "cell_type": "markdown",
   "metadata": {},
   "source": [
    "# Computing Probabilities in time for the Infinite Square Well"
   ]
  },
  {
   "cell_type": "code",
   "execution_count": 1,
   "metadata": {},
   "outputs": [
    {
     "data": {
      "text/html": [
       "<div id=\"glowscript\" class=\"glowscript\"></div>"
      ],
      "text/plain": [
       "<IPython.core.display.HTML object>"
      ]
     },
     "metadata": {},
     "output_type": "display_data"
    },
    {
     "data": {
      "application/javascript": [
       "if (typeof Jupyter !== \"undefined\") { window.__context = { glowscript_container: $(\"#glowscript\").removeAttr(\"id\")};}else{ element.textContent = ' ';}"
      ],
      "text/plain": [
       "<IPython.core.display.Javascript object>"
      ]
     },
     "metadata": {},
     "output_type": "display_data"
    },
    {
     "data": {
      "text/html": [
       "<div id=\"glowscript\" class=\"glowscript\"></div>"
      ],
      "text/plain": [
       "<IPython.core.display.HTML object>"
      ]
     },
     "metadata": {},
     "output_type": "display_data"
    },
    {
     "data": {
      "application/javascript": [
       "if (typeof Jupyter !== \"undefined\") { window.__context = { glowscript_container: $(\"#glowscript\").removeAttr(\"id\")};}else{ element.textContent = ' ';}"
      ],
      "text/plain": [
       "<IPython.core.display.Javascript object>"
      ]
     },
     "metadata": {},
     "output_type": "display_data"
    },
    {
     "data": {
      "application/javascript": [
       "if (typeof Jupyter !== \"undefined\") {require.undef(\"nbextensions/vpython_libraries/glow.min\");}else{element.textContent = ' ';}"
      ],
      "text/plain": [
       "<IPython.core.display.Javascript object>"
      ]
     },
     "metadata": {},
     "output_type": "display_data"
    },
    {
     "data": {
      "application/javascript": [
       "if (typeof Jupyter !== \"undefined\") {require.undef(\"nbextensions/vpython_libraries/glowcomm\");}else{element.textContent = ' ';}"
      ],
      "text/plain": [
       "<IPython.core.display.Javascript object>"
      ]
     },
     "metadata": {},
     "output_type": "display_data"
    },
    {
     "data": {
      "application/javascript": [
       "if (typeof Jupyter !== \"undefined\") {require.undef(\"nbextensions/vpython_libraries/jquery-ui.custom.min\");}else{element.textContent = ' ';}"
      ],
      "text/plain": [
       "<IPython.core.display.Javascript object>"
      ]
     },
     "metadata": {},
     "output_type": "display_data"
    },
    {
     "data": {
      "application/javascript": [
       "if (typeof Jupyter !== \"undefined\") {require([\"nbextensions/vpython_libraries/glow.min\"], function(){console.log(\"GLOW LOADED\");});}else{element.textContent = ' ';}"
      ],
      "text/plain": [
       "<IPython.core.display.Javascript object>"
      ]
     },
     "metadata": {},
     "output_type": "display_data"
    },
    {
     "data": {
      "application/javascript": [
       "if (typeof Jupyter !== \"undefined\") {require([\"nbextensions/vpython_libraries/glowcomm\"], function(){console.log(\"GLOWCOMM LOADED\");});}else{element.textContent = ' ';}"
      ],
      "text/plain": [
       "<IPython.core.display.Javascript object>"
      ]
     },
     "metadata": {},
     "output_type": "display_data"
    },
    {
     "data": {
      "application/javascript": [
       "if (typeof Jupyter !== \"undefined\") {require([\"nbextensions/vpython_libraries/jquery-ui.custom.min\"], function(){console.log(\"JQUERY LOADED\");});}else{element.textContent = ' ';}"
      ],
      "text/plain": [
       "<IPython.core.display.Javascript object>"
      ]
     },
     "metadata": {},
     "output_type": "display_data"
    },
    {
     "name": "stdout",
     "output_type": "stream",
     "text": [
      "At t=0.0...\n",
      "The probability of being on the left is: 0.9965601990196631\n",
      "The probability of being on the right is: 0.003439800980336981\n",
      "The total is: 1.0\n"
     ]
    }
   ],
   "source": [
    "import vpython as vp\n",
    "import numpy as np\n",
    "\n",
    "vp.canvas()\n",
    "\n",
    "N=20                           # how many fourier coefficients?\n",
    "NA=40                          # how many arrows?\n",
    "NA2=int(NA/2)                  # halfway index (NA/2)\n",
    "a=1.0                          # range of x is 1 unit\n",
    "x = np.linspace(0, a, NA)         # NA locations from 0 to a\n",
    "sleeptime=0.2                  # how long to sleep\n",
    "framerate=50                   # max framerate\n",
    "E_1=1.0                        # work in units of the ground state energy (i.e., E_2=4*E_1 etc.)\n",
    "hbar=1.0                       # work in units where hbar=1 (so omega_1 = E_1/hbar = 1.0)\n",
    "\n",
    "n = np.arange(1,N+1)\n",
    "omega = (n**2)\n",
    "\n",
    "coefs = (1/n)*(1.0-np.cos(n*np.pi/2.0)) # compute all the fourier coefficients in one go.\n",
    "\n",
    "def SetArrowFromCN( cn, a):\n",
    "    \"\"\"\n",
    "    SetArrowWithCN takes a complex number  cn  and an arrow object  a .\n",
    "    It sets the  y  and  z  components of the arrow s axis to the real \n",
    "    and imaginary parts of the given complex number. \n",
    "    \n",
    "    Just like Computing Project 1, except y and z for real/imag.\n",
    "    \"\"\"\n",
    "    a.axis.y = cn.real\n",
    "    a.axis.z = cn.imag\n",
    "    a.axis.x = 0.0\n",
    "    \n",
    "gr = vp.gcurve(color=vp.color.black)\n",
    "gx = vp.gcurve(color=vp.color.blue)\n",
    "gxp = vp.gcurve(color=vp.color.red)\n",
    "gxm = vp.gcurve(color=vp.color.red)\n",
    "\n",
    "psi=np.zeros(len(x),np.complex)\n",
    "\n",
    "for m in n:\n",
    "    psi += coefs[m-1]*np.sqrt(2.0/a)*np.sin(m*np.pi*x/a)  # put together initial wavefuncton\n",
    "\n",
    "pTot = (abs(psi)**2).sum()\n",
    "psi = psi/np.sqrt(pTot) # normalize!\n",
    "\n",
    "alist = []\n",
    "for i in range(NA):\n",
    "    alist.append(vp.arrow(pos=vp.vec(6*(x[i]-(a/2.0)),0,0), shaftwidth=4*a/NA, color=vp.color.red))\n",
    "    SetArrowFromCN(psi[i],alist[i])\n",
    "    \n",
    "pTot = (abs(psi)**2).sum()\n",
    "psi = psi/np.sqrt(pTot) # normalize!\n",
    "\n",
    "pLeft = (abs(psi[:NA2])**2).sum()\n",
    "pRight = (abs(psi[NA2:])**2).sum()\n",
    "\n",
    "print (\"At t=0.0...\")\n",
    "print (\"The probability of being on the left is:\", pLeft)\n",
    "print (\"The probability of being on the right is:\", pRight)\n",
    "print (\"The total is:\", pLeft + pRight)\n",
    "\n",
    "t = 0.0\n",
    "dt = 2*np.pi/1000.0\n",
    "\n",
    "def DisplayWF(t, scaleFactor=5):\n",
    "    \"\"\"\n",
    "    Update the display at a single timestep at time t. \n",
    "    \"\"\"\n",
    "    psi1 = np.zeros(len(x),complex)\n",
    "    \n",
    "    for m in n:\n",
    "        psi1 += coefs[m-1]*np.sin(m*np.pi*x/a) * np.exp(-1j * omega[m-1] * t) # add time dependence here!\n",
    "        \n",
    "    pTot1 = (abs(psi1)**2).sum()\n",
    "    psi1 = psi1/np.sqrt(pTot1) # normalize!\n",
    "    \n",
    "    for i in range(NA):\n",
    "        SetArrowFromCN(scaleFactor*psi1[i], alist[i])             # update the arrows\n",
    "    \n",
    "    \n",
    "    pLeft1 = (abs(psi1[:NA2])**2).sum()\n",
    "\n",
    "    gr.plot(pos=(t, pLeft1))\n",
    "\n",
    "    mean = (x*abs(psi1)**2).sum() \n",
    "\n",
    "    gx.plot(pos=(t, mean))\n",
    "\n",
    "    meansquare = ((x**2)*abs(psi1)**2).sum()\n",
    "    sigma = np.sqrt(meansquare - (mean**2))\n",
    "    sigmapos = mean + sigma\n",
    "    sigmaneg = mean - sigma\n",
    "\n",
    "    \n",
    "    gxp.plot(pos=(t, sigmapos))\n",
    "\n",
    "    gxm.plot(pos=(t, sigmaneg))\n",
    "\n",
    "    \n",
    "    #\n",
    "    # now compute probabilities, expectation values, etc. and graph in this space\n",
    "    #"
   ]
  },
  {
   "cell_type": "code",
   "execution_count": 2,
   "metadata": {},
   "outputs": [
    {
     "name": "stdout",
     "output_type": "stream",
     "text": [
      "Starting Condition Click Toggle to begin\n",
      "OK here we go!\n",
      "Done with first step\n",
      "OK! Keep going\n",
      "Done!\n"
     ]
    }
   ],
   "source": [
    "t = 0.0\n",
    "dt = 2*np.pi/1000.0\n",
    "\n",
    "status = {'go':False}\n",
    "\n",
    "def Toggle(b):    \n",
    "    status['go'] = not status['go']\n",
    "\n",
    "vp.button( bind=Toggle, text='Toggle' )\n",
    "\n",
    "print(\"Starting Condition Click Toggle to begin\")\n",
    "\n",
    "while status['go'] == False:\n",
    "    vp.rate(framerate)\n",
    "\n",
    "print(\"OK here we go!\")\n",
    "\n",
    "while status['go'] and t<np.pi:\n",
    "    vp.rate(framerate)\n",
    "    DisplayWF(t)\n",
    "    t+=dt\n",
    "\n",
    "print(\"Done with first step\")\n",
    "status['go'] = False\n",
    "\n",
    "while status['go'] == False:\n",
    "    vp.rate(framerate)\n",
    "\n",
    "print(\"OK! Keep going\")\n",
    "\n",
    "while status['go'] and t<2*np.pi:\n",
    "    vp.rate(framerate)\n",
    "    DisplayWF(t)\n",
    "    t+=dt\n",
    "\n",
    "print(\"Done!\")"
   ]
  },
  {
   "cell_type": "markdown",
   "metadata": {},
   "source": [
    "![Expectation.png](Expectation.png)\n",
    "![Snapshot.png](Snapshot.png)"
   ]
  },
  {
   "cell_type": "markdown",
   "metadata": {},
   "source": [
    "# Questions"
   ]
  },
  {
   "cell_type": "markdown",
   "metadata": {},
   "source": [
    "# 1. \n",
    "After one cycle of the ground state energy, the probability of being on the left half returns to 1 because all other excited energy states return to its original position at t = 0 after one ground state cycle. The first excited goes around 4 times, the second, 9 times, the third 16 times but they still return to their original state as their frequencies are just multiples of the frequency of the ground state. Therefore, the wavefunction returns to its original position.\n",
    "\n",
    "# 2. \n",
    "When the ground state completes half a cycle, the wave function now becomes reflected on the right half. The probability of being on the left half now becomes zero and the probability on being on the right half is one. We can see that after we press the toggle button once for a cycle of $/pi$.\n",
    "\n",
    "# 3.\n",
    "Any wave function that gives a constant value from 0 to $\\frac{a}{2}$ would give something similar as this wave function and it also starts the particle at the left half but a function that depends on x from 0 to $\\frac{a}{2}$ might bring up something different."
   ]
  }
 ],
 "metadata": {
  "kernelspec": {
   "display_name": "Python 3",
   "language": "python",
   "name": "python3"
  },
  "language_info": {
   "codemirror_mode": {
    "name": "ipython",
    "version": 3
   },
   "file_extension": ".py",
   "mimetype": "text/x-python",
   "name": "python",
   "nbconvert_exporter": "python",
   "pygments_lexer": "ipython3",
   "version": "3.8.3"
  }
 },
 "nbformat": 4,
 "nbformat_minor": 4
}
