{
 "cells": [
  {
   "cell_type": "markdown",
   "metadata": {},
   "source": [
    "# Parabolic PDE's"
   ]
  },
  {
   "cell_type": "code",
   "execution_count": 3,
   "metadata": {},
   "outputs": [],
   "source": [
    "import matplotlib.pyplot as plt\n",
    "import numpy as np\n",
    "from mpl_toolkits import mplot3d\n",
    "import matplotlib.animation as ani"
   ]
  },
  {
   "cell_type": "code",
   "execution_count": 4,
   "metadata": {},
   "outputs": [],
   "source": [
    "L = 5\n",
    "B = 3\n",
    "N = 500\n",
    "x = np.linspace(0, L, N)\n",
    "dx = x[1] - x[0]\n",
    "dt = dx**2/4\n",
    "y = np.where((x <= L/2), 1., 0.)\n",
    "D = np.zeros([10*N,N],np.float)\n",
    "D[0:] = y"
   ]
  },
  {
   "cell_type": "code",
   "execution_count": 5,
   "metadata": {},
   "outputs": [
    {
     "data": {
      "text/plain": [
       "[<matplotlib.lines.Line2D at 0x1c5654089a0>]"
      ]
     },
     "execution_count": 5,
     "metadata": {},
     "output_type": "execute_result"
    },
    {
     "data": {
      "image/png": "[encoded data removed]",
      "text/plain": [
       "<Figure size 432x288 with 1 Axes>"
      ]
     },
     "metadata": {
      "needs_background": "light"
     },
     "output_type": "display_data"
    }
   ],
   "source": [
    "plt.plot(x, y)"
   ]
  },
  {
   "cell_type": "code",
   "execution_count": 20,
   "metadata": {},
   "outputs": [
    {
     "data": {
      "image/png": "[encoded data removed]",
      "text/plain": [
       "<Figure size 432x288 with 1 Axes>"
      ]
     },
     "metadata": {
      "needs_background": "light"
     },
     "output_type": "display_data"
    }
   ],
   "source": [
    "for i in range(1,10*N-1):\n",
    "    for j in range(1,N-1):\n",
    "        D[i+1, j] = D[i, j] + dt/dx**2*(D[i, j+1] - 2*D[i, j] + D[i, j-1])\n",
    "    D[i+1, 0] = D[i, 0] + dt/dx**2*(D[i, 1] - 2*D[i, 0] + D[i, 1])\n",
    "    D[i+1, N-1] = D[i, N-1] + dt/dx**2*(D[i, N-2] - 2*D[i, N-1] + D[i, N-2])\n",
    "      \n",
    "plt.plot(x, D[i+1])\n",
    "plt.grid()"
   ]
  },
  {
   "cell_type": "code",
   "execution_count": 21,
   "metadata": {},
   "outputs": [],
   "source": [
    "t = 0\n",
    "\n",
    "def fa_vec(x):\n",
    "    \n",
    "    return np.where((x <= L/2), 1., 0.)\n",
    "\n",
    "def basis(x, n, t):\n",
    "    k = n*np.pi/L\n",
    "    if n == 0:\n",
    "        return np.sqrt(1/L)*np.ones(len(x))\n",
    "    else:\n",
    "        base = np.sqrt(2/L)*np.cos(k*x) * np.exp(-(k**2)*t)\n",
    "        return base"
   ]
  },
  {
   "cell_type": "code",
   "execution_count": 22,
   "metadata": {},
   "outputs": [
    {
     "name": "stdout",
     "output_type": "stream",
     "text": [
      "         n\t      coef\n",
      "       ---\t     -----\n",
      "         0\t   1.11579\n",
      "         1\t   1.00447\n",
      "         2\t  -0.00106\n",
      "         3\t  -0.33765\n",
      "         4\t  -0.00317\n",
      "         5\t   0.19921\n",
      "         6\t  -0.00106\n",
      "         7\t  -0.14592\n",
      "         8\t  -0.00317\n",
      "         9\t   0.10975\n",
      "        10\t  -0.00106\n",
      "        11\t  -0.09364\n",
      "        12\t  -0.00317\n",
      "        13\t   0.07534\n",
      "        14\t  -0.00106\n",
      "        15\t  -0.06924\n",
      "        16\t  -0.00317\n",
      "        17\t   0.05713\n",
      "        18\t  -0.00105\n",
      "        19\t  -0.05512\n",
      "        20\t  -0.00317\n",
      "        21\t   0.04586\n",
      "        22\t  -0.00105\n",
      "        23\t  -0.04592\n",
      "        24\t  -0.00317\n",
      "        25\t   0.03819\n",
      "        26\t  -0.00105\n",
      "        27\t  -0.03944\n",
      "        28\t  -0.00317\n",
      "        29\t   0.03265\n",
      "        30\t  -0.00105\n",
      "        31\t  -0.03463\n",
      "        32\t  -0.00317\n",
      "        33\t   0.02845\n",
      "        34\t  -0.00105\n",
      "        35\t  -0.03093\n",
      "        36\t  -0.00318\n",
      "        37\t   0.02515\n",
      "        38\t  -0.00105\n",
      "        39\t  -0.02799\n",
      "        40\t  -0.00318\n",
      "        41\t   0.02251\n",
      "        42\t  -0.00105\n",
      "        43\t  -0.02559\n",
      "        44\t  -0.00318\n",
      "        45\t   0.02033\n",
      "        46\t  -0.00105\n",
      "        47\t  -0.02361\n",
      "        48\t  -0.00318\n",
      "        49\t   0.01851\n",
      "        50\t  -0.00104\n",
      "        51\t  -0.02193\n",
      "        52\t  -0.00318\n",
      "        53\t   0.01697\n",
      "        54\t  -0.00104\n",
      "        55\t  -0.02051\n",
      "        56\t  -0.00319\n",
      "        57\t   0.01564\n",
      "        58\t  -0.00104\n",
      "        59\t  -0.01927\n",
      "        60\t  -0.00319\n",
      "        61\t   0.01449\n",
      "        62\t  -0.00104\n",
      "        63\t  -0.01820\n",
      "        64\t  -0.00319\n",
      "        65\t   0.01348\n",
      "        66\t  -0.00103\n",
      "        67\t  -0.01725\n",
      "        68\t  -0.00319\n",
      "        69\t   0.01259\n",
      "        70\t  -0.00103\n",
      "        71\t  -0.01641\n",
      "        72\t  -0.00320\n",
      "        73\t   0.01180\n",
      "        74\t  -0.00103\n",
      "        75\t  -0.01566\n",
      "        76\t  -0.00320\n",
      "        77\t   0.01109\n",
      "        78\t  -0.00102\n",
      "        79\t  -0.01499\n",
      "        80\t  -0.00320\n",
      "        81\t   0.01045\n",
      "        82\t  -0.00102\n",
      "        83\t  -0.01438\n",
      "        84\t  -0.00321\n",
      "        85\t   0.00987\n",
      "        86\t  -0.00102\n",
      "        87\t  -0.01383\n",
      "        88\t  -0.00321\n",
      "        89\t   0.00935\n",
      "        90\t  -0.00101\n",
      "        91\t  -0.01333\n",
      "        92\t  -0.00321\n",
      "        93\t   0.00887\n",
      "        94\t  -0.00101\n",
      "        95\t  -0.01287\n",
      "        96\t  -0.00322\n",
      "        97\t   0.00843\n",
      "        98\t  -0.00100\n",
      "        99\t  -0.01245\n"
     ]
    },
    {
     "data": {
      "image/png": "[encoded data removed]",
      "text/plain": [
       "<Figure size 432x288 with 1 Axes>"
      ]
     },
     "metadata": {
      "needs_background": "light"
     },
     "output_type": "display_data"
    }
   ],
   "source": [
    "def simpson_array(f, h):\n",
    "    \"\"\"\n",
    "\n",
    "Use Simpson's Rule to estimate an integral of an array of\n",
    "    function samples\n",
    "    \n",
    "    f: function samples (already in an array format)\n",
    "    h: spacing in \"x\" between sample points\n",
    "    \n",
    "    The array is assumed to have an even number of elements.\n",
    "    \n",
    "    \"\"\"\n",
    "    if len(f)%2 != 0:\n",
    "        raise ValueError(\"Sorry, f must be an array with an even number of elements.\")\n",
    "        \n",
    "    evens =  f[2:-2:2]\n",
    "    odds = f[1:-1:2]\n",
    "    return (f[0] + f[-1] + 2*odds.sum() + 4*evens.sum())*dx/3.0\n",
    "\n",
    "def braket(n,t):\n",
    "    \"\"\"\n",
    "    Evaluate <n|f>\n",
    "    \"\"\"\n",
    "    return simpson_array(basis(x,n,t)*fa_vec(x),dx)\n",
    "\n",
    "\n",
    "M=100\n",
    "coefs = []\n",
    "\n",
    "for n in range(M):\n",
    "    coefs.append(braket(n,0))   # do numerical integral\n",
    "\n",
    "sup = np.zeros(N)\n",
    "\n",
    "def Superposition(t):\n",
    "    sup = np.zeros(N)\n",
    "    for n in range(M):\n",
    "        sup += coefs[n]*basis(x,n, t)\n",
    "    return sup\n",
    "\n",
    "T = 0.125\n",
    "\n",
    "plt.plot(x,Superposition(T))\n",
    "plt.grid()\n",
    "print(\"%10s\\t%10s\" % ('n', 'coef'))\n",
    "print(\"%10s\\t%10s\" % ('---','-----'))\n",
    "for n in range(M):\n",
    "    print(\"%10d\\t%10.5f\" % (n, coefs[n]))"
   ]
  },
  {
   "cell_type": "code",
   "execution_count": 23,
   "metadata": {},
   "outputs": [
    {
     "data": {
      "text/plain": [
       "0.0017028881160125735"
      ]
     },
     "execution_count": 23,
     "metadata": {},
     "output_type": "execute_result"
    }
   ],
   "source": [
    "np.sqrt(((D[i+1] - Superposition(T))**2).sum()/len(x))"
   ]
  }
 ],
 "metadata": {
  "kernelspec": {
   "display_name": "Python 3",
   "language": "python",
   "name": "python3"
  },
  "language_info": {
   "codemirror_mode": {
    "name": "ipython",
    "version": 3
   },
   "file_extension": ".py",
   "mimetype": "text/x-python",
   "name": "python",
   "nbconvert_exporter": "python",
   "pygments_lexer": "ipython3",
   "version": "3.8.3"
  }
 },
 "nbformat": 4,
 "nbformat_minor": 4
}
