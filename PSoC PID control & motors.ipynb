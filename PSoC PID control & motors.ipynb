{
 "cells": [
  {
   "cell_type": "markdown",
   "metadata": {},
   "source": [
    "# Project 7: PSoC: PID control & motors\n",
    "## Abstract\n",
    "The purpose of this project was to build a circuit that controls a motor using a sensor. We were to use some kind of sensor to either control the speed, direction, or angle of the motor. I used a temperature sensor to control the sense of rotation either clockwise or anticlockwise of a motor. I used a H-Bridge chip, L293D, to control the DC motor. I set the circuit such that if the sensor reads a temperature greater than 70, it turns anticlockwise and if it reads a temperature less than 70 it turns clockwise. \n",
    "## Description\n",
    "The L293D is a monolithic integrated high voltage, high current four channel driver designed to accept standard DTL or TTL logic levels and drive inductive loads (such as relays solenoides, DC\n",
    "and stepping motors) and switching power transistors. It is assembled in a 16 lead plastic\n",
    "packaage which has 4 center pins connected together. The chip has diodes built in it that protects it from inductive kicks from the motor. Below is a diagram of the bridge"
   ]
  },
  {
   "cell_type": "markdown",
   "metadata": {},
   "source": [
    "![Hbridge.jpg](Hbridge.jpg)"
   ]
  },
  {
   "cell_type": "markdown",
   "metadata": {},
   "source": [
    "One can set the motor to move forward by setting a pin high and another low and one can run the motor in reverse by reversing the high and low or either pins."
   ]
  },
  {
   "cell_type": "markdown",
   "metadata": {},
   "source": [
    "## Schematic and Discussion"
   ]
  },
  {
   "cell_type": "markdown",
   "metadata": {},
   "source": [
    "![David.PNG](David.PNG)"
   ]
  },
  {
   "cell_type": "markdown",
   "metadata": {},
   "source": [
    "## Arduino Code"
   ]
  },
  {
   "cell_type": "markdown",
   "metadata": {},
   "source": [
    "    float temp;\n",
    "    int tempPin = 0;\n",
    "\n",
    "    void setup()\n",
    "    {\n",
    "      pinMode(13, OUTPUT);\n",
    "      pinMode(11, OUTPUT);\n",
    "      pinMode(10, OUTPUT);\n",
    "      digitalWrite(13, HIGH);//set this pin to HIGH to enable motor driver\n",
    "\n",
    "      Serial.begin(9600);\n",
    "    }\n",
    "\n",
    "    void loop()\n",
    "    {\n",
    "      temp = analogRead(tempPin);\n",
    "      // read analog volt from sensor and save to variable temp\n",
    "      temp = temp * 0.48828125;\n",
    "      // convert the analog volt to its temperature equivalent\n",
    "\n",
    "      Serial.print(\"Temperature = \");\n",
    "      Serial.print(temp); // display temperature value\n",
    "      Serial.println(\"C\");\n",
    "\n",
    "      if (temp > 70) {\n",
    "      digitalWrite(11, HIGH);\n",
    "      digitalWrite(10, LOW);\n",
    "      delay(2000);\n",
    "      }\n",
    "      if (temp < 70) {\n",
    "      digitalWrite(11, LOW);\n",
    "      digitalWrite(10, HIGH);\n",
    "      delay(2000);\n",
    "      }\n",
    "}\n"
   ]
  },
  {
   "cell_type": "markdown",
   "metadata": {},
   "source": [
    "## Results\n",
    "We observed that when the the sensor reads a temperature greater than 70, it turns anticlockwise and if it reads a temperature less than 70 it turns clockwise. \n",
    "\n",
    "## Conclusion\n",
    "The purpose of this lab is to control a motor using a sensor. I used a temperature sensor to control the direction of the motor. If the temperature is greater than 70 it turns anticlockwise and if the temperature is less than 70 it turns clockwise. I used a H-Bridge chip, L293D, to communicate with the DC motor\n",
    "\n",
    "## Appendix\n",
    "https://www.tinkercad.com/things/5XLkhfsqqHC-spectacular-uusam-krunk/editel?sharecode=bu60_iIGcdx46DfLI8A4SYoOeonQuuXfmAcExpj6xm4\n",
    "\n",
    "If link doesn't work\n",
    "\n",
    "https://www.tinkercad.com/things/5XLkhfsqqHC-temperature-sensor-and-dc-motor/editel?sharecode=bu60_iIGcdx46DfLI8A4SYoOeonQuuXfmAcExpj6xm4"
   ]
  },
  {
   "cell_type": "markdown",
   "metadata": {},
   "source": [
    "## Statistics Exercise\n",
    "### Exercise 1 \n",
    " \n",
    " $\\sigma_{height}$  = 0.5\n",
    " \n",
    " $\\sigma_{width}$  = 0.5\n",
    "\n",
    "Area = height * width\n",
    "\n",
    "$$A = h^1 * w^1$$\n",
    "\n",
    "\n",
    "$$ \\left ( \\frac{\\sigma_d}{d} \\right)^2 =  \\left ( 1 \\frac{\\sigma_h}{h} \\right)^2 + \\left ( 1 \\frac{\\sigma_w}{w} \\right)^2 $$"
   ]
  },
  {
   "cell_type": "code",
   "execution_count": 26,
   "metadata": {},
   "outputs": [
    {
     "name": "stdout",
     "output_type": "stream",
     "text": [
      "Uncertainty in area : 0.007 m\n"
     ]
    }
   ],
   "source": [
    "%matplotlib inline\n",
    "import pandas as pd\n",
    "import matplotlib.pyplot as pl \n",
    "import numpy as np\n",
    "from scipy.integrate import quad\n",
    "from scipy.optimize import curve_fit\n",
    "h = 1\n",
    "w = 1\n",
    "sigma_h = 0.005  \n",
    "sigma_w = 0.005  \n",
    "a = 1   \n",
    "sigma_a = a*np.sqrt((sigma_h/h)**2 + (sigma_w/w)**2)\n",
    "print(\"Uncertainty in area : %3.3f m\" %sigma_a)"
   ]
  },
  {
   "cell_type": "markdown",
   "metadata": {},
   "source": [
    "### Exercise 2"
   ]
  },
  {
   "cell_type": "code",
   "execution_count": 25,
   "metadata": {},
   "outputs": [
    {
     "name": "stdout",
     "output_type": "stream",
     "text": [
      "m= 2.000 +/- 0.066 ( 2.066, 1.934 )\n",
      "b= 1.000 +/- 0.258 ( 1.258 0.742 )\n"
     ]
    }
   ],
   "source": [
    "x = np.array([1, 2, 3, 4, 5, 6])\n",
    "y = np.array([3, 5, 7, 9, 11, 13])\n",
    "sigma_x = 0.1\n",
    "sigma_y = 0.2\n",
    "\n",
    "def linear(x, m, b):\n",
    "    return (m * x) + b\n",
    "\n",
    "par, cov = curve_fit(linear, x, y)\n",
    "m, b = par\n",
    "N = 1000      # number of samples to take\n",
    "bList = []   \n",
    "mList = []\n",
    "for i in range(N):\n",
    "    xMC = x + sigma_x * np.random.normal(size=len(x))\n",
    "    yMC = y + sigma_y * np.random.normal(size=len(y))\n",
    "    par, cov = curve_fit(linear, xMC, yMC)\n",
    "    mList.append(par[0])\n",
    "    bList.append(par[1])\n",
    "\n",
    "marr=np.array(mList)\n",
    "barr=np.array(bList)\n",
    "\n",
    "mAvg = marr.mean()\n",
    "bAvg = barr.mean()\n",
    "sigm = marr.std(ddof=1)\n",
    "sigb = barr.std(ddof=1)\n",
    "\n",
    "print(\"m= %5.3f +/- %5.3f ( %5.3f, %5.3f )\" % (m, sigm, m+sigm, m-sigm ))\n",
    "print(\"b= %5.3f +/- %5.3f ( %5.3f %5.3f )\" % (b, sigb, b+sigb, b-sigb ))"
   ]
  }
 ],
 "metadata": {
  "kernelspec": {
   "display_name": "Python 3",
   "language": "python",
   "name": "python3"
  },
  "language_info": {
   "codemirror_mode": {
    "name": "ipython",
    "version": 3
   },
   "file_extension": ".py",
   "mimetype": "text/x-python",
   "name": "python",
   "nbconvert_exporter": "python",
   "pygments_lexer": "ipython3",
   "version": "3.8.3"
  }
 },
 "nbformat": 4,
 "nbformat_minor": 2
}
