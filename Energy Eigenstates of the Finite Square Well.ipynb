{
 "cells": [
  {
   "cell_type": "markdown",
   "metadata": {
    "colab_type": "text",
    "id": "f60DFXO1uvz_"
   },
   "source": [
    "# Physics 280 Final Project: Finite Square Well"
   ]
  },
  {
   "cell_type": "markdown",
   "metadata": {},
   "source": [
    "## Abstract\n",
    "Thi final project was all about finding the energy eigenstates and values of a Finite square well using root finding methods. After solving the Schrodinger's equation, one would discover that there are both Symmetric and Asymmetric cases of a finite square well and these cases were accounted for in this project. Energy Eigenvalues gotten from this root finding method were compared to results gotten from solving the transcedental equations. Solving for a finite square well with $V_0$ = -100, seven energy eigenstates and values were found comprising of both Symmetric and Asymmetric cases. They were: -98.92, -95.70, -90.34, -82.85, -73.28, -61.66, -48.07, -32.67, -15.82.\n",
    "## Description\n",
    "Consider the following piecewise continuous, finite potential energy:\n",
    "$$V = 0                ( x < 0) $$\n",
    "$$V = V_0               (-L\\leq x \\leq L) $$\n",
    "$$V = 0                 (x > L)$$\n",
    "\n",
    "A classical particle with energy E less than U is permanently bound to the region -L < x < L. Quantum mechanics asserts, however, that there is some probability that the particle can be found outside this region! That is, the wavefunction generally is nonzero outside the well, and so the probability of finding the particle here also is nonzero.\n",
    "\n",
    "Consider the the 1-dimensional time-independent Schrödinger equation:\n",
    "$$-\\frac{\\hbar^2}{2m} \\psi''(x) + V(x)\\psi(x) = E\\psi(x)$$ \n",
    "One can solve the Schrödinger equation using concepts from ODE's and apply boundary conditions to come up with wave functions appropriate for each region.\n",
    "### Region 1\n",
    "$$V(x) = 0 $$\n",
    "$$\\psi''-\\frac{2m}{\\hbar^2}\\left(V(x)-E\\right)\\psi(x) = 0$$\n",
    "$$ \\sqrt{\\frac{2m}{\\hbar^2}\\left(V(x)-E\\right)} = \\alpha$$\n",
    "$$\\alpha^2 = \\frac{2m}{\\hbar^2}\\left(V(x)-E\\right)$$\n",
    "$$\\psi'' - \\alpha^2\\psi(x) = 0$$\n",
    "$$ \\psi(x) = Ae^{\\alpha x} + Be^{-\\alpha x}  $$\n",
    "$$ \\psi(x) \\rightarrow 0 $$\n",
    "$$ x \\rightarrow -\\infty $$\n",
    "$$ B = 0 $$\n",
    "$$ \\psi(x) = Ae^{\\alpha x} $$\n",
    "### Region 2\n",
    "$$V(x) = V0 $$\n",
    "$$\\psi''-\\frac{2m}{\\hbar^2}\\left(V(x)-E\\right)\\psi(x) = 0$$\n",
    "$$ \\sqrt{-\\frac{2m}{\\hbar^2}\\left(V(x)-E\\right)} = k$$\n",
    "$$k^2 = -\\frac{2m}{\\hbar^2}\\left(V(x)-E\\right)$$\n",
    "$$\\psi'' + k^2\\psi(x) = 0$$\n",
    "$$ \\psi(x) = Ccos{kx} + Dsin{kx}  $$\n",
    "$$ \\psi(x) = Ccos{kx}$$ Symmetric\n",
    "$$ \\psi(x) = Dsin{kx} $$ Asymmetric\n",
    "### Region 3\n",
    "$$V(x) = 0 $$\n",
    "$$\\psi''-\\frac{2m}{\\hbar^2}\\left(V(x)-E\\right)\\psi(x) = 0$$\n",
    "$$ \\sqrt{\\frac{2m}{\\hbar^2}\\left(V(x)-E\\right)} = \\alpha$$\n",
    "$$\\alpha^2 = \\frac{2m}{\\hbar^2}\\left(V(x)-E\\right)$$\n",
    "$$\\psi'' - \\alpha^2\\psi(x) = 0$$\n",
    "$$ \\psi(x) = Ee^{\\alpha x} + Fe^{-\\alpha x}  $$\n",
    "$$ \\psi(x) \\rightarrow 0 $$\n",
    "$$ x \\rightarrow \\infty $$\n",
    "$$ E = 0 $$\n",
    "$$ \\psi(x) = Fe^{-\\alpha x} $$\n",
    "\n",
    "Solving these equations further and applying boundary conditions to their derivatives, we arrive at transcedental equations:\n",
    "$$ cos(\\zeta) = \\frac{\\zeta}{\\zeta_0} $$ Symmetric case\n",
    "$$ sin(\\zeta) = \\frac{\\zeta}{\\zeta_0} $$ Asymmetric case\n",
    "## Algorithm and Discussion\n",
    "To find the eigenstates and values of a finite square well, we integrate from the middle of the well to the edge of the well, we then integrate from a position far outside the well. After doing this we compare the wavefunction and the derivative of the wavefunction of the results of the integrations. We try rescale the results from integration of a position outside the well to match the other integration from the middle to the edge of the well. After rescaling, we compare the derivatives obtained from both integrations, if they're not equal, we use brentq function to find the energy in which the derivatives would match. We used ballpark estimates of energies and plugged into our integrate functions. This gives us numerical clues of where we should be looking at for these energy eigenvalues. What happens on the left side depends on how we set the initial conditions. For if we chose $\\psi(0) = 1$ and $\\dot{\\psi}(0) = 0$ we get the symmetrical case, so left side is just mirrored right side. But if we reverse initial conditions so that $\\psi(0) = 0$ and $\\dot{\\psi}(0) = 1$, we get the asymmetric case. Symmetrical states correspond to the cosine based functions, while antisymmetric correspond to the sine based functions. We compared results gotten from this root finding algorithm to results from solving the transcedental equations.\n",
    "\n",
    "## Implementation and Code\n",
    "I used a potential of $V_0 = -100 $. We can use Runge Kutta method to integrate Schrodinger's Equation from $x=0$ to $x=L$, and $x = 3*L$ to $x=L$.\n",
    "$$-\\frac{\\hbar^2}{2m} \\psi''(x) + V(x)\\psi(x) = E\\psi(x)$$\n",
    "Set initial conditions to be $\\psi(0) = 1$ and $\\dot{\\psi}(0) = 0$ for the symmetrical case and $\\psi(0) = 0$ and $\\dot{\\psi}(0) = 1$, for the asymmetric case.\n",
    "Use the roots of the transcedental equations to check answers."
   ]
  },
  {
   "cell_type": "code",
   "execution_count": 107,
   "metadata": {
    "colab": {},
    "colab_type": "code",
    "id": "wawKZnXsg3gS"
   },
   "outputs": [],
   "source": [
    "%matplotlib inline\n",
    "import pandas as pd\n",
    "import matplotlib.pyplot as pl \n",
    "import numpy as np\n",
    "import sympy as sp\n",
    "from scipy.optimize import brentq"
   ]
  },
  {
   "cell_type": "code",
   "execution_count": 108,
   "metadata": {
    "colab": {},
    "colab_type": "code",
    "id": "M6Yy9IhXg3gW"
   },
   "outputs": [],
   "source": [
    "V0 = -100\n",
    "def V(x):\n",
    "    if x < -L or x > L:\n",
    "        return 0  \n",
    "    else:\n",
    "        return V0 "
   ]
  },
  {
   "cell_type": "code",
   "execution_count": 109,
   "metadata": {
    "colab": {
     "base_uri": "https://localhost:8080/",
     "height": 282
    },
    "colab_type": "code",
    "id": "E-4Cx4mOg3gZ",
    "outputId": "231413fb-fe39-440a-dd7a-dec1ebedc7f5"
   },
   "outputs": [
    {
     "data": {
      "text/plain": [
       "[<matplotlib.lines.Line2D at 0x27798c71fc8>]"
      ]
     },
     "execution_count": 109,
     "metadata": {},
     "output_type": "execute_result"
    },
    {
     "data": {
      "image/png": "[encoded data removed]",
      "text/plain": [
       "<Figure size 432x288 with 1 Axes>"
      ]
     },
     "metadata": {
      "needs_background": "light"
     },
     "output_type": "display_data"
    }
   ],
   "source": [
    "L=1.0\n",
    "N=10000\n",
    "well = np.linspace(-L-1 ,L+1.,N)  \n",
    "potential=[]\n",
    "for i in range(len(well)):\n",
    "    potential.append(V(well[i]))\n",
    "\n",
    "pl.grid()\n",
    "pl.plot(well, potential)"
   ]
  },
  {
   "cell_type": "code",
   "execution_count": 110,
   "metadata": {
    "colab": {},
    "colab_type": "code",
    "id": "-H7d78I0g3gc"
   },
   "outputs": [],
   "source": [
    "psi0, psip0 = 1.0, 0.0   # start psi and psi'  at $x=0$.\n",
    "s=np.array([psi0, psip0])\n",
    "hbar=1.0  # pick convenient units\n",
    "m=1.0\n",
    "\n",
    "def RK4Step(s, x, derivs, dx, E):\n",
    "    \"\"\"\n",
    "    Take a single RK4 step. (our old friend)\n",
    "    But this time we're integrating in 'x', not 't'.\n",
    "    \"\"\"\n",
    "    dxh=dx/2.0\n",
    "    f1 = derivs(s, x, E)\n",
    "    f2 = derivs(s+f1*dxh, x+dxh, E)\n",
    "    f3 = derivs(s+f2*dxh, x+dxh, E)\n",
    "    f4 = derivs(s+f3*dx, x+dx, E)\n",
    "    return s + (f1+2*f2+2*f3+f4)*dx/6.0\n",
    "\n",
    "def SWE_derivs(s, x, E):\n",
    "    psi=s[0]\n",
    "    psip=s[1]\n",
    "    \n",
    "    psipp =(2*m/hbar**2)*(V(x)-E)*psi\n",
    "    return np.array([psip, psipp])"
   ]
  },
  {
   "cell_type": "code",
   "execution_count": 111,
   "metadata": {
    "colab": {},
    "colab_type": "code",
    "id": "HIbztvGug3gf"
   },
   "outputs": [],
   "source": [
    "def Integrate(E, startX=0.0, stopX=L, num=N, psi0=1, psip0=0,  results=None):\n",
    "    \"\"\"\n",
    "    E is the test energy.\n",
    "    results is an option dictionary to store results\n",
    "\n",
    "    returns: final values of psi and psi_prime \n",
    "    \"\"\"\n",
    "    s=np.array([psi0, psip0])\n",
    "    xs = np.linspace(startX, stopX, num)\n",
    "    dx = xs[1] - xs[0]\n",
    "    for x in xs:\n",
    "        s=RK4Step(s, x, SWE_derivs, dx, E)\n",
    "        if results is not None:\n",
    "          xvals = results.get('x',[])\n",
    "          xvals.append(x)\n",
    "          results['x'] = xvals\n",
    "\n",
    "          psiVals = results.get('psi',[])\n",
    "          psiVals.append(s[0])\n",
    "          results['psi'] = psiVals\n",
    "\n",
    "          psiPrimeVals = results.get('psip',[])\n",
    "          psiPrimeVals.append(s[1])\n",
    "          results['psip'] = psiPrimeVals\n",
    "\n",
    "\n",
    "    return s\n",
    "\n",
    "def Integrate_as(E, startX=0.0, stopX=L, num=N, psi0=0, psip0=1,  results=None):\n",
    "    \"\"\"\n",
    "    E is the test energy.\n",
    "    results is an option dictionary to store results\n",
    "\n",
    "    returns: final values of psi and psi_prime \n",
    "    \"\"\"\n",
    "    s=np.array([psi0, psip0])\n",
    "    xs = np.linspace(startX, stopX, num)\n",
    "    dx = xs[1] - xs[0]\n",
    "    if results is not None:\n",
    "        results['x'] = [xs[0]]\n",
    "        results['psi'] = [psi0]\n",
    "        results['psip'] = [psip0]\n",
    "        \n",
    "    for x in xs:\n",
    "        s=RK4Step(s, x, SWE_derivs, dx, E)\n",
    "        if results is not None:\n",
    "          xvals = results.get('x',[])\n",
    "          xvals.append(x)\n",
    "          results['x'] = xvals\n",
    "\n",
    "          psiVals = results.get('psi',[])\n",
    "          psiVals.append(s[0])\n",
    "          results['psi'] = psiVals\n",
    "\n",
    "          psiPrimeVals = results.get('psip',[])\n",
    "          psiPrimeVals.append(s[1])\n",
    "          results['psip'] = psiPrimeVals\n",
    "\n",
    "\n",
    "    return s"
   ]
  },
  {
   "cell_type": "markdown",
   "metadata": {
    "colab": {},
    "colab_type": "code",
    "id": "Mq3ZhB00px0F"
   },
   "source": [
    "## Symmetric Case"
   ]
  },
  {
   "cell_type": "code",
   "execution_count": 112,
   "metadata": {
    "colab": {},
    "colab_type": "code",
    "id": "yD2qto37sVj8"
   },
   "outputs": [],
   "source": [
    "def integrateAtEnergy(E):\n",
    "    results = {}\n",
    "    Integrate(E,0,L,N,1,0,results)\n",
    "    results2 = {}\n",
    "    Integrate(E, 3*L, L, N, 1e-30, 0, results2)\n",
    "    x1 = np.array(results['x'])\n",
    "    psi1 = np.array(results['psi'])\n",
    "    psip1 = np.array(results['psip'])\n",
    "    psi2 = np.array(results2['psi'])\n",
    "    psip2 = np.array(results2['psip'])\n",
    "    x2 = np.array(results2['x'])\n",
    "    psi2rescaled = psi1[-1]*psi2/results2['psi'][-1]\n",
    "    psip2rescaled = psi1[-1]*psip2/results2['psi'][-1]\n",
    "    return x1, psi1, psip1, x2, psi2rescaled, psip2rescaled\n",
    "\n",
    "def diff(E):\n",
    "    x1, psi1, psip1, x2, psi2, psip2 = integrateAtEnergy(E)\n",
    "    return psip1[-1] - psip2[-1]"
   ]
  },
  {
   "cell_type": "code",
   "execution_count": 113,
   "metadata": {
    "colab": {
     "base_uri": "https://localhost:8080/",
     "height": 34
    },
    "colab_type": "code",
    "id": "WEz5J9gM0I1-",
    "outputId": "9faf2a4c-eeea-4360-f5ce-4c2be1091c42"
   },
   "outputs": [
    {
     "data": {
      "text/plain": [
       "-98.92462525020724"
      ]
     },
     "execution_count": 113,
     "metadata": {},
     "output_type": "execute_result"
    }
   ],
   "source": [
    "Eigen1 = brentq(diff, -95, -100)\n",
    "Eigen1"
   ]
  },
  {
   "cell_type": "code",
   "execution_count": 114,
   "metadata": {
    "colab": {
     "base_uri": "https://localhost:8080/",
     "height": 282
    },
    "colab_type": "code",
    "id": "Ly-UjjuJZhmL",
    "outputId": "0f3cc7a1-db99-4368-fba6-41ea5889f473"
   },
   "outputs": [
    {
     "data": {
      "image/png": "[encoded data removed]",
      "text/plain": [
       "<Figure size 432x288 with 1 Axes>"
      ]
     },
     "metadata": {
      "needs_background": "light"
     },
     "output_type": "display_data"
    }
   ],
   "source": [
    "x1, psi1, psip1, x2, psi2, psip2 = integrateAtEnergy(Eigen1)\n",
    "pl.plot(x1, psi1, 'r-')\n",
    "pl.plot(x2, psi2, 'r-')\n",
    "pl.title(\"Wave function of the Symmetric Ground State\")\n",
    "pl.xlabel(\"x\")\n",
    "pl.ylabel(\"psi(x)\")\n",
    "pl.grid()"
   ]
  },
  {
   "cell_type": "code",
   "execution_count": 115,
   "metadata": {
    "colab": {
     "base_uri": "https://localhost:8080/",
     "height": 34
    },
    "colab_type": "code",
    "id": "aU18dteGuv0Z",
    "outputId": "038f8e3f-38a4-4414-976f-19b907b9ebc1"
   },
   "outputs": [
    {
     "data": {
      "text/plain": [
       "-90.34081907043928"
      ]
     },
     "execution_count": 115,
     "metadata": {},
     "output_type": "execute_result"
    }
   ],
   "source": [
    "Eigen2 = brentq(diff, -90, -91)\n",
    "Eigen2"
   ]
  },
  {
   "cell_type": "code",
   "execution_count": 116,
   "metadata": {
    "colab": {
     "base_uri": "https://localhost:8080/",
     "height": 282
    },
    "colab_type": "code",
    "id": "fhjhUVoWuv0c",
    "outputId": "3f0f0d9c-69f7-4a0a-9a78-df6e4e9e2b79"
   },
   "outputs": [
    {
     "data": {
      "text/plain": [
       "Text(0, 0.5, 'psi(x)')"
      ]
     },
     "execution_count": 116,
     "metadata": {},
     "output_type": "execute_result"
    },
    {
     "data": {
      "image/png": "[encoded data removed]",
      "text/plain": [
       "<Figure size 432x288 with 1 Axes>"
      ]
     },
     "metadata": {
      "needs_background": "light"
     },
     "output_type": "display_data"
    }
   ],
   "source": [
    "x1, psi1, psip1, x2, psi2, psip2 = integrateAtEnergy(Eigen2)\n",
    "pl.plot(x1, psi1, 'r-')\n",
    "pl.plot(x2, psi2, 'r-')\n",
    "pl.grid()\n",
    "pl.title(\"Wave function of the Symmetric First Excited State\")\n",
    "pl.xlabel(\"x\")\n",
    "pl.ylabel(\"psi(x)\")"
   ]
  },
  {
   "cell_type": "code",
   "execution_count": 117,
   "metadata": {
    "colab": {
     "base_uri": "https://localhost:8080/",
     "height": 34
    },
    "colab_type": "code",
    "id": "8z7T14uZbl9d",
    "outputId": "39fe0693-a591-46a9-bca9-a04590b28b08"
   },
   "outputs": [
    {
     "data": {
      "text/plain": [
       "-73.28912301831238"
      ]
     },
     "execution_count": 117,
     "metadata": {},
     "output_type": "execute_result"
    }
   ],
   "source": [
    "Eigen3 = brentq(diff, -70, -85)\n",
    "Eigen3"
   ]
  },
  {
   "cell_type": "code",
   "execution_count": 118,
   "metadata": {
    "colab": {
     "base_uri": "https://localhost:8080/",
     "height": 282
    },
    "colab_type": "code",
    "id": "3QooI8KubBj1",
    "outputId": "13b12b9a-dcb8-4139-eb2f-78bf70e60775"
   },
   "outputs": [
    {
     "data": {
      "text/plain": [
       "Text(0, 0.5, 'psi(x)')"
      ]
     },
     "execution_count": 118,
     "metadata": {},
     "output_type": "execute_result"
    },
    {
     "data": {
      "image/png": "[encoded data removed]",
      "text/plain": [
       "<Figure size 432x288 with 1 Axes>"
      ]
     },
     "metadata": {
      "needs_background": "light"
     },
     "output_type": "display_data"
    }
   ],
   "source": [
    "x1, psi1, psip1, x2, psi2, psip2 = integrateAtEnergy(Eigen3)\n",
    "pl.plot(x1, psi1, 'r-')\n",
    "pl.plot(x2, psi2, 'r-')\n",
    "pl.grid()\n",
    "pl.title(\"Wave function of the Symmetric Second Excited State\")\n",
    "pl.xlabel(\"x\")\n",
    "pl.ylabel(\"psi(x)\")"
   ]
  },
  {
   "cell_type": "code",
   "execution_count": 119,
   "metadata": {
    "colab": {
     "base_uri": "https://localhost:8080/",
     "height": 34
    },
    "colab_type": "code",
    "id": "987qkn3Cbl3c",
    "outputId": "535363dc-7a87-4430-cf42-115183db560d"
   },
   "outputs": [
    {
     "data": {
      "text/plain": [
       "-48.09630735413568"
      ]
     },
     "execution_count": 119,
     "metadata": {},
     "output_type": "execute_result"
    }
   ],
   "source": [
    "Eigen4 = brentq(diff, -40, -55)\n",
    "Eigen4"
   ]
  },
  {
   "cell_type": "code",
   "execution_count": 120,
   "metadata": {
    "colab": {
     "base_uri": "https://localhost:8080/",
     "height": 282
    },
    "colab_type": "code",
    "id": "JJD309YNbLPL",
    "outputId": "ef4b1e38-f73b-443c-8409-3bd6bee6f72f"
   },
   "outputs": [
    {
     "data": {
      "text/plain": [
       "Text(0, 0.5, 'psi(x)')"
      ]
     },
     "execution_count": 120,
     "metadata": {},
     "output_type": "execute_result"
    },
    {
     "data": {
      "image/png": "[encoded data removed]",
      "text/plain": [
       "<Figure size 432x288 with 1 Axes>"
      ]
     },
     "metadata": {
      "needs_background": "light"
     },
     "output_type": "display_data"
    }
   ],
   "source": [
    "x1, psi1, psip1, x2, psi2, psip2 = integrateAtEnergy(Eigen4)\n",
    "pl.plot(x1, psi1, 'r-')\n",
    "pl.plot(x2, psi2, 'r-')\n",
    "pl.grid()\n",
    "pl.title(\"Wave function of the Symmetric Third Excited State\")\n",
    "pl.xlabel(\"x\")\n",
    "pl.ylabel(\"psi(x)\")"
   ]
  },
  {
   "cell_type": "code",
   "execution_count": 121,
   "metadata": {
    "colab": {
     "base_uri": "https://localhost:8080/",
     "height": 34
    },
    "colab_type": "code",
    "id": "vNWRhSF7bltC",
    "outputId": "738cf0a6-dbb3-4fc8-e1bc-573f8995e33c"
   },
   "outputs": [
    {
     "data": {
      "text/plain": [
       "-15.854979189479215"
      ]
     },
     "execution_count": 121,
     "metadata": {},
     "output_type": "execute_result"
    }
   ],
   "source": [
    "Eigen5 = brentq(diff, -20, -10)\n",
    "Eigen5"
   ]
  },
  {
   "cell_type": "code",
   "execution_count": 122,
   "metadata": {
    "colab": {
     "base_uri": "https://localhost:8080/",
     "height": 282
    },
    "colab_type": "code",
    "id": "kzejBiInbTD1",
    "outputId": "1ddf9b9a-4ba6-4fbd-9422-5f045efc79a7"
   },
   "outputs": [
    {
     "data": {
      "text/plain": [
       "Text(0, 0.5, 'psi(x)')"
      ]
     },
     "execution_count": 122,
     "metadata": {},
     "output_type": "execute_result"
    },
    {
     "data": {
      "image/png": "[encoded data removed]",
      "text/plain": [
       "<Figure size 432x288 with 1 Axes>"
      ]
     },
     "metadata": {
      "needs_background": "light"
     },
     "output_type": "display_data"
    }
   ],
   "source": [
    "x1, psi1, psip1, x2, psi2, psip2 = integrateAtEnergy(Eigen5)\n",
    "pl.plot(x1, psi1, 'r-')\n",
    "pl.plot(x2, psi2, 'r-')\n",
    "pl.grid()\n",
    "pl.title(\"Wave function of the Symmetric Fourth Excited State\")\n",
    "pl.xlabel(\"x\")\n",
    "pl.ylabel(\"psi(x)\")"
   ]
  },
  {
   "cell_type": "code",
   "execution_count": 123,
   "metadata": {},
   "outputs": [
    {
     "name": "stdout",
     "output_type": "stream",
     "text": [
      "Energy eigenvalues for Symmetric case:\n",
      "Energy Eigenvalue for n = 1: -98.9246\n",
      "Energy Eigenvalue for n = 2: -90.3408\n",
      "Energy Eigenvalue for n = 3: -73.2891\n",
      "Energy Eigenvalue for n = 4: -48.0963\n",
      "Energy Eigenvalue for n = 5: -15.8550\n"
     ]
    }
   ],
   "source": [
    "print (\"Energy eigenvalues for Symmetric case:\")\n",
    "print (\"Energy Eigenvalue for n = 1: %5.4f\" % Eigen1)\n",
    "print (\"Energy Eigenvalue for n = 2: %5.4f\" % Eigen2)\n",
    "print (\"Energy Eigenvalue for n = 3: %5.4f\" % Eigen3)\n",
    "print (\"Energy Eigenvalue for n = 4: %5.4f\" % Eigen4)\n",
    "print (\"Energy Eigenvalue for n = 5: %5.4f\" % Eigen5)"
   ]
  },
  {
   "cell_type": "markdown",
   "metadata": {
    "colab_type": "text",
    "id": "IXauKDNeuv0t"
   },
   "source": [
    "## Asymmetric case"
   ]
  },
  {
   "cell_type": "code",
   "execution_count": 124,
   "metadata": {
    "colab": {},
    "colab_type": "code",
    "id": "SThJ1FAyuv0t"
   },
   "outputs": [],
   "source": [
    "def integrateAtEnergy_as(E):\n",
    "    results = {}\n",
    "    Integrate_as(E,0,L,N,0,1,results)\n",
    "    results2 = {}\n",
    "    Integrate_as(E, 3*L, L, N, 0, 1e-30, results2)\n",
    "    x1 = np.array(results['x'])\n",
    "    psi1 = np.array(results['psi'])\n",
    "    psip1 = np.array(results['psip'])\n",
    "    psi2 = np.array(results2['psi'])\n",
    "    psip2 = np.array(results2['psip'])\n",
    "    x2 = np.array(results2['x'])\n",
    "    psi2rescaled = psi1[-1]*psi2/results2['psi'][-1]\n",
    "    psip2rescaled = psi1[-1]*psip2/results2['psi'][-1]\n",
    "    return x1, psi1, psip1, x2, psi2rescaled, psip2rescaled\n",
    "\n",
    "def diff_as(E):\n",
    "    x1, psi1, psip1, x2, psi2, psip2 = integrateAtEnergy_as(E)\n",
    "    return psip1[-1] - psip2[-1]"
   ]
  },
  {
   "cell_type": "code",
   "execution_count": 125,
   "metadata": {
    "colab": {
     "base_uri": "https://localhost:8080/",
     "height": 34
    },
    "colab_type": "code",
    "id": "YD1qBg3luv0v",
    "outputId": "a3a63ea6-6550-4b2a-d8d8-ee4c7f84c1b4"
   },
   "outputs": [
    {
     "data": {
      "text/plain": [
       "-95.70162602020629"
      ]
     },
     "execution_count": 125,
     "metadata": {},
     "output_type": "execute_result"
    }
   ],
   "source": [
    "Eigen_as1 = brentq(diff_as, -95, -96)\n",
    "Eigen_as1"
   ]
  },
  {
   "cell_type": "code",
   "execution_count": 126,
   "metadata": {
    "colab": {
     "base_uri": "https://localhost:8080/",
     "height": 282
    },
    "colab_type": "code",
    "id": "GfvYpYFEuv0x",
    "outputId": "246cf1fb-5abf-4ba4-e1a1-ed1e2fe06df0"
   },
   "outputs": [
    {
     "data": {
      "text/plain": [
       "Text(0, 0.5, 'psi(x)')"
      ]
     },
     "execution_count": 126,
     "metadata": {},
     "output_type": "execute_result"
    },
    {
     "data": {
      "image/png": "[encoded data removed]",
      "text/plain": [
       "<Figure size 432x288 with 1 Axes>"
      ]
     },
     "metadata": {
      "needs_background": "light"
     },
     "output_type": "display_data"
    }
   ],
   "source": [
    "x1, psi1, psip1, x2, psi2, psip2 = integrateAtEnergy_as(Eigen_as1)\n",
    "pl.plot(x1, psi1, 'r-')\n",
    "pl.plot(x2, psi2, 'r-')\n",
    "pl.grid()\n",
    "pl.title(\"Wave function of the Asymmetric Ground State\")\n",
    "pl.xlabel(\"x\")\n",
    "pl.ylabel(\"psi(x)\")"
   ]
  },
  {
   "cell_type": "code",
   "execution_count": 127,
   "metadata": {
    "colab": {
     "base_uri": "https://localhost:8080/",
     "height": 34
    },
    "colab_type": "code",
    "id": "58IW4RVruv0z",
    "outputId": "8acbb6f4-f742-48b5-cbaf-15ed78d20497"
   },
   "outputs": [
    {
     "data": {
      "text/plain": [
       "-82.86020355285109"
      ]
     },
     "execution_count": 127,
     "metadata": {},
     "output_type": "execute_result"
    }
   ],
   "source": [
    "Eigen_as2 = brentq(diff_as, -84, -82)\n",
    "Eigen_as2"
   ]
  },
  {
   "cell_type": "code",
   "execution_count": 128,
   "metadata": {
    "colab": {
     "base_uri": "https://localhost:8080/",
     "height": 282
    },
    "colab_type": "code",
    "id": "6ic_-qAXuv03",
    "outputId": "a14a5a51-da39-424c-eb67-dfbcbd0c480a"
   },
   "outputs": [
    {
     "data": {
      "text/plain": [
       "Text(0, 0.5, 'psi(x)')"
      ]
     },
     "execution_count": 128,
     "metadata": {},
     "output_type": "execute_result"
    },
    {
     "data": {
      "image/png": "[encoded data removed]",
      "text/plain": [
       "<Figure size 432x288 with 1 Axes>"
      ]
     },
     "metadata": {
      "needs_background": "light"
     },
     "output_type": "display_data"
    }
   ],
   "source": [
    "x1, psi1, psip1, x2, psi2, psip2 = integrateAtEnergy_as(Eigen_as2)\n",
    "pl.plot(x1, psi1, 'r-')\n",
    "pl.plot(x2, psi2, 'r-')\n",
    "pl.grid()\n",
    "pl.title(\"Wave function of the Asymmetric First Excited State\")\n",
    "pl.xlabel(\"x\")\n",
    "pl.ylabel(\"psi(x)\")"
   ]
  },
  {
   "cell_type": "code",
   "execution_count": 129,
   "metadata": {
    "colab": {
     "base_uri": "https://localhost:8080/",
     "height": 34
    },
    "colab_type": "code",
    "id": "0CgWPhCZuv05",
    "outputId": "8b94c9c9-ea89-4e5c-de10-b0344c24700d"
   },
   "outputs": [
    {
     "data": {
      "text/plain": [
       "-61.67472921931975"
      ]
     },
     "execution_count": 129,
     "metadata": {},
     "output_type": "execute_result"
    }
   ],
   "source": [
    "Eigen_as3 = brentq(diff_as, -60, -64)\n",
    "Eigen_as3"
   ]
  },
  {
   "cell_type": "code",
   "execution_count": 130,
   "metadata": {
    "colab": {
     "base_uri": "https://localhost:8080/",
     "height": 282
    },
    "colab_type": "code",
    "id": "WM7nwNxfuv08",
    "outputId": "817fb036-6dab-446f-fdd5-732294c7c7fd"
   },
   "outputs": [
    {
     "data": {
      "text/plain": [
       "Text(0, 0.5, 'psi(x)')"
      ]
     },
     "execution_count": 130,
     "metadata": {},
     "output_type": "execute_result"
    },
    {
     "data": {
      "image/png": "[encoded data removed]",
      "text/plain": [
       "<Figure size 432x288 with 1 Axes>"
      ]
     },
     "metadata": {
      "needs_background": "light"
     },
     "output_type": "display_data"
    }
   ],
   "source": [
    "x1, psi1, psip1, x2, psi2, psip2 = integrateAtEnergy_as(Eigen_as3)\n",
    "pl.plot(x1, psi1, 'r-')\n",
    "pl.plot(x2, psi2, 'r-')\n",
    "pl.grid()\n",
    "pl.title(\"Wave function of the Asymmetric Second Excited State\")\n",
    "pl.xlabel(\"x\")\n",
    "pl.ylabel(\"psi(x)\")"
   ]
  },
  {
   "cell_type": "code",
   "execution_count": 131,
   "metadata": {
    "colab": {
     "base_uri": "https://localhost:8080/",
     "height": 34
    },
    "colab_type": "code",
    "id": "-cjaXjXZuv0-",
    "outputId": "9950c199-c5ca-4503-a150-6680cce8ef91"
   },
   "outputs": [
    {
     "data": {
      "text/plain": [
       "-32.70310679762348"
      ]
     },
     "execution_count": 131,
     "metadata": {},
     "output_type": "execute_result"
    }
   ],
   "source": [
    "Eigen_as4 = brentq(diff_as, -32, -36)\n",
    "Eigen_as4"
   ]
  },
  {
   "cell_type": "code",
   "execution_count": 132,
   "metadata": {
    "colab": {
     "base_uri": "https://localhost:8080/",
     "height": 282
    },
    "colab_type": "code",
    "id": "I0PP28p3uv1B",
    "outputId": "04bfff96-c307-4d26-be21-d92ff69227c7"
   },
   "outputs": [
    {
     "data": {
      "text/plain": [
       "Text(0, 0.5, 'psi(x)')"
      ]
     },
     "execution_count": 132,
     "metadata": {},
     "output_type": "execute_result"
    },
    {
     "data": {
      "image/png": "[encoded data removed]",
      "text/plain": [
       "<Figure size 432x288 with 1 Axes>"
      ]
     },
     "metadata": {
      "needs_background": "light"
     },
     "output_type": "display_data"
    }
   ],
   "source": [
    "x1, psi1, psip1, x2, psi2, psip2 = integrateAtEnergy_as(Eigen_as4)\n",
    "pl.plot(x1, psi1, 'r-')\n",
    "pl.plot(x2, psi2, 'r-')\n",
    "pl.grid()\n",
    "pl.title(\"Wave function of the Asymmetric Third Excited State\")\n",
    "pl.xlabel(\"x\")\n",
    "pl.ylabel(\"psi(x)\")"
   ]
  },
  {
   "cell_type": "code",
   "execution_count": 133,
   "metadata": {},
   "outputs": [
    {
     "name": "stdout",
     "output_type": "stream",
     "text": [
      "Energy eigenvalues for Asymmetric case:\n",
      "Energy Eigenvalue for n = 1: -95.7016\n",
      "Energy Eigenvalue for n = 2: -82.8602\n",
      "Energy Eigenvalue for n = 3: -61.6747\n",
      "Energy Eigenvalue for n = 4: -32.7031\n"
     ]
    }
   ],
   "source": [
    "print (\"Energy eigenvalues for Asymmetric case:\")\n",
    "print (\"Energy Eigenvalue for n = 1: %5.4f\" % Eigen_as1)\n",
    "print (\"Energy Eigenvalue for n = 2: %5.4f\" % Eigen_as2)\n",
    "print (\"Energy Eigenvalue for n = 3: %5.4f\" % Eigen_as3)\n",
    "print (\"Energy Eigenvalue for n = 4: %5.4f\" % Eigen_as4)"
   ]
  },
  {
   "cell_type": "markdown",
   "metadata": {},
   "source": [
    "### Analytical Solution"
   ]
  },
  {
   "cell_type": "code",
   "execution_count": 134,
   "metadata": {
    "colab": {
     "base_uri": "https://localhost:8080/",
     "height": 34
    },
    "colab_type": "code",
    "id": "_VcBh9hacMlv",
    "outputId": "87d26fe2-7bb0-44d8-a932-d22a9b9e553a"
   },
   "outputs": [
    {
     "data": {
      "text/plain": [
       "14.142135623730951"
      ]
     },
     "execution_count": 134,
     "metadata": {},
     "output_type": "execute_result"
    }
   ],
   "source": [
    "z0 = L*np.sqrt(-2*m*V0)/hbar; z0"
   ]
  },
  {
   "cell_type": "code",
   "execution_count": 135,
   "metadata": {
    "colab": {
     "base_uri": "https://localhost:8080/",
     "height": 265
    },
    "colab_type": "code",
    "id": "Uou2oNYidHUM",
    "outputId": "015f549b-764d-42ef-8821-19a87ef07aee"
   },
   "outputs": [
    {
     "data": {
      "image/png": "[encoded data removed]",
      "text/plain": [
       "<Figure size 432x288 with 1 Axes>"
      ]
     },
     "metadata": {
      "needs_background": "light"
     },
     "output_type": "display_data"
    }
   ],
   "source": [
    "z = np.linspace(0,z0,N)\n",
    "pl.plot(z,z/z0,'r-')\n",
    "pl.plot(z,abs(np.cos(z)),'r-')\n",
    "pl.plot(z,abs(np.sin(z)),'b-')\n",
    "pl.grid()"
   ]
  },
  {
   "cell_type": "code",
   "execution_count": 136,
   "metadata": {
    "colab": {
     "base_uri": "https://localhost:8080/",
     "height": 34
    },
    "colab_type": "code",
    "id": "-S9kd0BEdk9P",
    "outputId": "9866d231-5f1c-4ba4-e02f-a3f9a863763e"
   },
   "outputs": [
    {
     "data": {
      "text/plain": [
       "1.4668849966730226"
      ]
     },
     "execution_count": 136,
     "metadata": {},
     "output_type": "execute_result"
    }
   ],
   "source": [
    "k0 = brentq(lambda z: np.cos(z) - z/z0, 1,2 ); k0"
   ]
  },
  {
   "cell_type": "code",
   "execution_count": 137,
   "metadata": {
    "colab": {
     "base_uri": "https://localhost:8080/",
     "height": 34
    },
    "colab_type": "code",
    "id": "LI079OdxgJuh",
    "outputId": "293b716a-b3b1-41e1-e7ac-440e1c26aa2d"
   },
   "outputs": [
    {
     "data": {
      "text/plain": [
       "-98.9241242032678"
      ]
     },
     "execution_count": 137,
     "metadata": {},
     "output_type": "execute_result"
    }
   ],
   "source": [
    "E1 = V0 + (hbar*k0)**2/(2*m)\n",
    "E1"
   ]
  },
  {
   "cell_type": "code",
   "execution_count": 138,
   "metadata": {},
   "outputs": [
    {
     "data": {
      "text/plain": [
       "2.9327033818989654"
      ]
     },
     "execution_count": 138,
     "metadata": {},
     "output_type": "execute_result"
    }
   ],
   "source": [
    "k1 = brentq(lambda z: np.sin(z) - z/z0, 2.5,3 ); k1"
   ]
  },
  {
   "cell_type": "code",
   "execution_count": 139,
   "metadata": {},
   "outputs": [
    {
     "data": {
      "text/plain": [
       "-95.69962543689918"
      ]
     },
     "execution_count": 139,
     "metadata": {},
     "output_type": "execute_result"
    }
   ],
   "source": [
    "E_as1 = V0 + (hbar*k1)**2/(2*m)\n",
    "E_as1"
   ]
  },
  {
   "cell_type": "code",
   "execution_count": 140,
   "metadata": {
    "colab": {
     "base_uri": "https://localhost:8080/",
     "height": 34
    },
    "colab_type": "code",
    "id": "8qO3bjm6gcY3",
    "outputId": "4a54e7d8-cd43-458a-af1b-59f0d203dc1b"
   },
   "outputs": [
    {
     "data": {
      "text/plain": [
       "4.3962866150340565"
      ]
     },
     "execution_count": 140,
     "metadata": {},
     "output_type": "execute_result"
    }
   ],
   "source": [
    "k2 = brentq(lambda z: abs(np.cos(z)) - z/z0, 4,4.7 ); k2"
   ]
  },
  {
   "cell_type": "code",
   "execution_count": 141,
   "metadata": {
    "colab": {
     "base_uri": "https://localhost:8080/",
     "height": 34
    },
    "colab_type": "code",
    "id": "VYr4X1Brg1TB",
    "outputId": "74776e7d-e75e-4347-c0f4-dd715e7cde14"
   },
   "outputs": [
    {
     "data": {
      "text/plain": [
       "-90.3363319992362"
      ]
     },
     "execution_count": 141,
     "metadata": {},
     "output_type": "execute_result"
    }
   ],
   "source": [
    "E2 = V0 + (hbar*k2)**2/(2*m)\n",
    "E2"
   ]
  },
  {
   "cell_type": "code",
   "execution_count": 142,
   "metadata": {},
   "outputs": [
    {
     "data": {
      "text/plain": [
       "5.856233423716016"
      ]
     },
     "execution_count": 142,
     "metadata": {},
     "output_type": "execute_result"
    }
   ],
   "source": [
    "k3 = brentq(lambda z: abs(np.sin(z)) - z/z0, 5.5,6.1 ); k3"
   ]
  },
  {
   "cell_type": "code",
   "execution_count": 143,
   "metadata": {},
   "outputs": [
    {
     "data": {
      "text/plain": [
       "-82.8522650434757"
      ]
     },
     "execution_count": 143,
     "metadata": {},
     "output_type": "execute_result"
    }
   ],
   "source": [
    "E_as2 = V0 + (hbar*k3)**2/(2*m)\n",
    "E_as2"
   ]
  },
  {
   "cell_type": "code",
   "execution_count": 144,
   "metadata": {
    "colab": {
     "base_uri": "https://localhost:8080/",
     "height": 34
    },
    "colab_type": "code",
    "id": "fKTElJyvg6NY",
    "outputId": "d14d2557-bfcb-4412-bec8-869fb799338d"
   },
   "outputs": [
    {
     "data": {
      "text/plain": [
       "7.310703614472121"
      ]
     },
     "execution_count": 144,
     "metadata": {},
     "output_type": "execute_result"
    }
   ],
   "source": [
    "k4 = brentq(lambda z: abs(np.cos(z)) - z/z0, 7,8 ); k4"
   ]
  },
  {
   "cell_type": "code",
   "execution_count": 145,
   "metadata": {
    "colab": {
     "base_uri": "https://localhost:8080/",
     "height": 34
    },
    "colab_type": "code",
    "id": "GbUboDhNhO14",
    "outputId": "29bbc2b1-9e80-4508-8508-1e89e9738a85"
   },
   "outputs": [
    {
     "data": {
      "text/plain": [
       "-73.27680633067213"
      ]
     },
     "execution_count": 145,
     "metadata": {},
     "output_type": "execute_result"
    }
   ],
   "source": [
    "E3 = V0 + (hbar*k4)**2/(2*m)\n",
    "E3"
   ]
  },
  {
   "cell_type": "code",
   "execution_count": 146,
   "metadata": {},
   "outputs": [
    {
     "data": {
      "text/plain": [
       "8.757034307665888"
      ]
     },
     "execution_count": 146,
     "metadata": {},
     "output_type": "execute_result"
    }
   ],
   "source": [
    "k5 = brentq(lambda z: abs(np.sin(z)) - z/z0, 8.5,9 ); k5"
   ]
  },
  {
   "cell_type": "code",
   "execution_count": 147,
   "metadata": {},
   "outputs": [
    {
     "data": {
      "text/plain": [
       "-61.657175067181306"
      ]
     },
     "execution_count": 147,
     "metadata": {},
     "output_type": "execute_result"
    }
   ],
   "source": [
    "E_as3 = V0 + (hbar*k5)**2/(2*m)\n",
    "E_as3"
   ]
  },
  {
   "cell_type": "code",
   "execution_count": 148,
   "metadata": {
    "colab": {
     "base_uri": "https://localhost:8080/",
     "height": 34
    },
    "colab_type": "code",
    "id": "iAEkXuhkhR0w",
    "outputId": "2a4ab513-8124-4ca0-a2d7-0bd4a1bad6a2"
   },
   "outputs": [
    {
     "data": {
      "text/plain": [
       "10.190899214952116"
      ]
     },
     "execution_count": 148,
     "metadata": {},
     "output_type": "execute_result"
    }
   ],
   "source": [
    "k6 = brentq(lambda z: abs(np.cos(z)) - z/z0, 10,11 ); k6"
   ]
  },
  {
   "cell_type": "code",
   "execution_count": 149,
   "metadata": {
    "colab": {
     "base_uri": "https://localhost:8080/",
     "height": 34
    },
    "colab_type": "code",
    "id": "E1qctN1mhu5R",
    "outputId": "48a87a07-bf40-430b-ee38-b07e060df63a"
   },
   "outputs": [
    {
     "data": {
      "text/plain": [
       "-48.07278659534417"
      ]
     },
     "execution_count": 149,
     "metadata": {},
     "output_type": "execute_result"
    }
   ],
   "source": [
    "E4 = V0 + (hbar*k6)**2/(2*m)\n",
    "E4"
   ]
  },
  {
   "cell_type": "code",
   "execution_count": 150,
   "metadata": {},
   "outputs": [
    {
     "data": {
      "text/plain": [
       "11.604034486938492"
      ]
     },
     "execution_count": 150,
     "metadata": {},
     "output_type": "execute_result"
    }
   ],
   "source": [
    "k7 = brentq(lambda z: abs(np.sin(z)) - z/z0, 11.5,12 ); k7"
   ]
  },
  {
   "cell_type": "code",
   "execution_count": 151,
   "metadata": {},
   "outputs": [
    {
     "data": {
      "text/plain": [
       "-32.67319181297107"
      ]
     },
     "execution_count": 151,
     "metadata": {},
     "output_type": "execute_result"
    }
   ],
   "source": [
    "E_as4 = V0 + (hbar*k7)**2/(2*m)\n",
    "E_as4"
   ]
  },
  {
   "cell_type": "code",
   "execution_count": 152,
   "metadata": {
    "colab": {
     "base_uri": "https://localhost:8080/",
     "height": 34
    },
    "colab_type": "code",
    "id": "OGIaUY16hxX4",
    "outputId": "86ad0d2b-5ff2-486b-8a72-d30505943578"
   },
   "outputs": [
    {
     "data": {
      "text/plain": [
       "12.975416979484846"
      ]
     },
     "execution_count": 152,
     "metadata": {},
     "output_type": "execute_result"
    }
   ],
   "source": [
    "k8 = brentq(lambda z: abs(np.cos(z)) - z/z0, 12.5,14 ); k8"
   ]
  },
  {
   "cell_type": "code",
   "execution_count": 153,
   "metadata": {
    "colab": {
     "base_uri": "https://localhost:8080/",
     "height": 34
    },
    "colab_type": "code",
    "id": "EOmV1B0IiSWX",
    "outputId": "f218f131-1dbd-4bb9-c1e8-637d874dfcda"
   },
   "outputs": [
    {
     "data": {
      "text/plain": [
       "-15.819277104248172"
      ]
     },
     "execution_count": 153,
     "metadata": {},
     "output_type": "execute_result"
    }
   ],
   "source": [
    "E5 = V0 + (hbar*k8)**2/(2*m)\n",
    "E5"
   ]
  },
  {
   "cell_type": "code",
   "execution_count": 154,
   "metadata": {},
   "outputs": [
    {
     "name": "stdout",
     "output_type": "stream",
     "text": [
      "Analytical Symmetrical Energy Eigenvalues:\n",
      "Energy Eigenvalue for n = 1: -98.9241\n",
      "Energy Eigenvalue for n = 2: -90.3363\n",
      "Energy Eigenvalue for n = 3: -73.2768\n",
      "Energy Eigenvalue for n = 4: -48.0728\n",
      "Energy Eigenvalue for n = 5: -15.8193\n"
     ]
    }
   ],
   "source": [
    "print (\"Analytical Symmetrical Energy Eigenvalues:\")\n",
    "print (\"Energy Eigenvalue for n = 1: %5.4f\" % E1)\n",
    "print (\"Energy Eigenvalue for n = 2: %5.4f\" % E2)\n",
    "print (\"Energy Eigenvalue for n = 3: %5.4f\" % E3)\n",
    "print (\"Energy Eigenvalue for n = 4: %5.4f\" % E4)\n",
    "print (\"Energy Eigenvalue for n = 5: %5.4f\" % E5)"
   ]
  },
  {
   "cell_type": "code",
   "execution_count": 155,
   "metadata": {},
   "outputs": [
    {
     "name": "stdout",
     "output_type": "stream",
     "text": [
      "Analytical Asymmetrical Energy Eigenvalues:\n",
      "Energy Eigenvalue for n = 1: -95.6996\n",
      "Energy Eigenvalue for n = 2: -82.8523\n",
      "Energy Eigenvalue for n = 3: -61.6572\n",
      "Energy Eigenvalue for n = 4: -32.6732\n"
     ]
    }
   ],
   "source": [
    "print (\"Analytical Asymmetrical Energy Eigenvalues:\")\n",
    "print (\"Energy Eigenvalue for n = 1: %5.4f\" % E_as1)\n",
    "print (\"Energy Eigenvalue for n = 2: %5.4f\" % E_as2)\n",
    "print (\"Energy Eigenvalue for n = 3: %5.4f\" % E_as3)\n",
    "print (\"Energy Eigenvalue for n = 4: %5.4f\" % E_as4)"
   ]
  },
  {
   "cell_type": "markdown",
   "metadata": {},
   "source": [
    "### Comparing Root-finding and Analytical results for Symmetric case\n",
    "|Bound State   | Root-finding Method Results  | Analytical Results  |  \n",
    "|---|---|---|\n",
    "| 1  | -98.9246  | -98.9241  |   \n",
    "| 2  | -90.3408  | -90.3363  |  \n",
    "| 3  | -73.2891  | -73.2768  | \n",
    "| 4  | -48.0963  | -48.0728  |\n",
    "| 5  | -15.8550  | -15.8193  |\n",
    "\n",
    "One can see that the greatest difference in result is 3.57%\n",
    "\n",
    "### Comparing Root-finding and Analytical results for Asymmetric case\n",
    "|Bound State   | Root-finding Method Results  | Analytical Results  |  \n",
    "|---|---|---|\n",
    "| 1  | -95.7016  | -95.6996 |   \n",
    "| 2  | -82.8602  | -82.8523 |  \n",
    "| 3  | -61.6747  | -61.6572 | \n",
    "| 4  | -32.7031  | -32.6732 |\n",
    "\n",
    "One can see that the greatest difference in result is 2.99%"
   ]
  },
  {
   "cell_type": "markdown",
   "metadata": {},
   "source": [
    "## Conclusion\n",
    "In this final project, i used root finding techniques to find Energy Eigenvalues for both Symmetrical and Asymmetrical cases of a Finite square well. These values were compared to the ones obtained from solving the transcedental equations. Solving for a finite square well with $V_0$ = -100, seven energy eigenstates and values were found comprising of both Symmetric and Asymmetric cases. They were: -98.92, -95.70, -90.34, -82.85, -73.28, -61.66, -48.07, -32.67, -15.82."
   ]
  }
 ],
 "metadata": {
  "colab": {
   "collapsed_sections": [],
   "name": "Final_Project 1.ipynb",
   "provenance": []
  },
  "kernelspec": {
   "display_name": "Python 3",
   "language": "python",
   "name": "python3"
  },
  "language_info": {
   "codemirror_mode": {
    "name": "ipython",
    "version": 3
   },
   "file_extension": ".py",
   "mimetype": "text/x-python",
   "name": "python",
   "nbconvert_exporter": "python",
   "pygments_lexer": "ipython3",
   "version": "3.8.3"
  }
 },
 "nbformat": 4,
 "nbformat_minor": 1
}
