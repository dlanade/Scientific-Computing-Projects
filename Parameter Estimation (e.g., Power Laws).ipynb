{
 "cells": [
  {
   "cell_type": "markdown",
   "metadata": {},
   "source": [
    "# Project 7: Power Law Distributions: Zipf's Law\n",
    "## Abstract\n",
    "In this lab, we were meant to search for data for systems that can exhibit the Power law and curve fit them to get a relationship between the parameters of the data. I collected data for sizes of 200 cities and the population of these 200 cities in the United states, i graphed the log of rank of this cities in size against the log the city population and did a curve fit. I noticed that there is a linear relationship between the logs of these data parameters. This shows similar attributes to an observation that linguist George Zipf made about the relationship between rank and frequency in languages spoken around the world, he called this the rank vs. frequency rule. If this law is applied to the sizes of cities, we find out that the city with the largest population in any country is generally twice as large as the next-biggest, and so on. I did this with cities in the U.S where the biggest city in the U.S., New York, had a population of 8,622,357. Los Angeles, ranked number 2, had a population of 4,085,014. And the cities in the next three ranks, Illinois, Texas, and Arizona, clock in at 2,670,406, 2,378,146 and 1,743,469 respectively. One can see that the numbers aren't exact, but when looked at statistically, they are remarkably consistent with Zipf's predictions. I had a slope of -1.35 $\\pm$ 0.01 and and intercept of 21.28 $\\pm$ 0.08 when i fitted the data from the graph. The fact that the slope is very close to -1 means that Zipf's is truly a power law. I also got a correlation coefficient squared of about 0.996.\n",
    "## Description\n",
    "Zipf's law is an empirical law formulated using mathematical statistics that refers to the fact that many types of data studied in the physical and social sciences can be approximated with a Zipfian distribution, one of a family of related discrete power law probability distributions. Zipf distribution is related to the zeta distribution, but is not identical.\n",
    "\n",
    "Zipf's law was originally formulated in terms of quantitative linguistics, stating that given some corpus of natural language utterances, the frequency of any word is inversely proportional to its rank in the frequency table. Thus the most frequent word will occur approximately twice as often as the second most frequent word, three times as often as the third most frequent word, etc.: the rank-frequency distribution is an inverse relation.\n",
    "\n",
    "The law is named after the American linguist George Kingsley Zipf, who popularized it and sought to explain it, though he did not claim to have originated it. The French stenographer Jean-Baptiste Estoup (1868–1950) appears to have noticed the regularity before Zipf.\n",
    "## Algorithm and Description\n",
    "To verify zipf's law as a power law, i imported population and rank data from a csv file. I plotted the log of the rank of these cities in size against the log of the population of these cities. I used the curve fitting function from the scientific computing library to try figure out a relationship between the logs. To verify zipf's law as a power law, we needed a linear fit with a slope close to -1.\n",
    "## Implementation and Code"
   ]
  },
  {
   "cell_type": "code",
   "execution_count": 1,
   "metadata": {},
   "outputs": [
    {
     "data": {
      "text/html": [
       "<div>\n",
       "<style scoped>\n",
       "    .dataframe tbody tr th:only-of-type {\n",
       "        vertical-align: middle;\n",
       "    }\n",
       "\n",
       "    .dataframe tbody tr th {\n",
       "        vertical-align: top;\n",
       "    }\n",
       "\n",
       "    .dataframe thead th {\n",
       "        text-align: right;\n",
       "    }\n",
       "</style>\n",
       "<table border=\"1\" class=\"dataframe\">\n",
       "  <thead>\n",
       "    <tr style=\"text-align: right;\">\n",
       "      <th></th>\n",
       "      <th>Rank</th>\n",
       "      <th>State</th>\n",
       "      <th>Population</th>\n",
       "      <th>Population Density</th>\n",
       "    </tr>\n",
       "  </thead>\n",
       "  <tbody>\n",
       "    <tr>\n",
       "      <th>0</th>\n",
       "      <td>1</td>\n",
       "      <td>New York</td>\n",
       "      <td>8622357</td>\n",
       "      <td>11083.6609</td>\n",
       "    </tr>\n",
       "    <tr>\n",
       "      <th>1</th>\n",
       "      <td>2</td>\n",
       "      <td>California</td>\n",
       "      <td>4085014</td>\n",
       "      <td>3365.4175</td>\n",
       "    </tr>\n",
       "    <tr>\n",
       "      <th>2</th>\n",
       "      <td>3</td>\n",
       "      <td>Illinois</td>\n",
       "      <td>2670406</td>\n",
       "      <td>4535.2716</td>\n",
       "    </tr>\n",
       "    <tr>\n",
       "      <th>3</th>\n",
       "      <td>4</td>\n",
       "      <td>Texas</td>\n",
       "      <td>2378146</td>\n",
       "      <td>1442.5631</td>\n",
       "    </tr>\n",
       "    <tr>\n",
       "      <th>4</th>\n",
       "      <td>5</td>\n",
       "      <td>Arizona</td>\n",
       "      <td>1743469</td>\n",
       "      <td>1300.3778</td>\n",
       "    </tr>\n",
       "    <tr>\n",
       "      <th>...</th>\n",
       "      <td>...</td>\n",
       "      <td>...</td>\n",
       "      <td>...</td>\n",
       "      <td>...</td>\n",
       "    </tr>\n",
       "    <tr>\n",
       "      <th>195</th>\n",
       "      <td>196</td>\n",
       "      <td>Florida</td>\n",
       "      <td>137447</td>\n",
       "      <td>847.6251</td>\n",
       "    </tr>\n",
       "    <tr>\n",
       "      <th>196</th>\n",
       "      <td>197</td>\n",
       "      <td>California</td>\n",
       "      <td>136758</td>\n",
       "      <td>1409.1272</td>\n",
       "    </tr>\n",
       "    <tr>\n",
       "      <th>197</th>\n",
       "      <td>198</td>\n",
       "      <td>South Carolina</td>\n",
       "      <td>135629</td>\n",
       "      <td>388.0102</td>\n",
       "    </tr>\n",
       "    <tr>\n",
       "      <th>198</th>\n",
       "      <td>199</td>\n",
       "      <td>Texas</td>\n",
       "      <td>135443</td>\n",
       "      <td>1439.0369</td>\n",
       "    </tr>\n",
       "    <tr>\n",
       "      <th>199</th>\n",
       "      <td>200</td>\n",
       "      <td>Florida</td>\n",
       "      <td>135043</td>\n",
       "      <td>2243.0103</td>\n",
       "    </tr>\n",
       "  </tbody>\n",
       "</table>\n",
       "<p>200 rows × 4 columns</p>\n",
       "</div>"
      ],
      "text/plain": [
       "     Rank           State  Population  Population Density\n",
       "0       1        New York     8622357          11083.6609\n",
       "1       2      California     4085014           3365.4175\n",
       "2       3        Illinois     2670406           4535.2716\n",
       "3       4           Texas     2378146           1442.5631\n",
       "4       5         Arizona     1743469           1300.3778\n",
       "..    ...             ...         ...                 ...\n",
       "195   196         Florida      137447            847.6251\n",
       "196   197      California      136758           1409.1272\n",
       "197   198  South Carolina      135629            388.0102\n",
       "198   199           Texas      135443           1439.0369\n",
       "199   200         Florida      135043           2243.0103\n",
       "\n",
       "[200 rows x 4 columns]"
      ]
     },
     "execution_count": 1,
     "metadata": {},
     "output_type": "execute_result"
    }
   ],
   "source": [
    "%matplotlib inline\n",
    "import pandas as pd\n",
    "import matplotlib.pyplot as pl \n",
    "import numpy as np\n",
    "import sympy as sp\n",
    "from scipy.optimize import curve_fit \n",
    "from scipy import stats\n",
    "db = pd.read_csv('data1.csv')\n",
    "db"
   ]
  },
  {
   "cell_type": "code",
   "execution_count": 2,
   "metadata": {},
   "outputs": [
    {
     "data": {
      "text/plain": [
       "[<matplotlib.lines.Line2D at 0x149f2caac70>]"
      ]
     },
     "execution_count": 2,
     "metadata": {},
     "output_type": "execute_result"
    },
    {
     "data": {
      "image/png": "[encoded data removed]",
      "text/plain": [
       "<Figure size 432x288 with 1 Axes>"
      ]
     },
     "metadata": {
      "needs_background": "light"
     },
     "output_type": "display_data"
    }
   ],
   "source": [
    "poplog = np.log(db.Population)\n",
    "ranklog = np.log(db.Rank)\n",
    "pl.title(\"Graph of the log of Rank against the log of Population\")\n",
    "pl.xlabel(\"Log of the Population\")\n",
    "pl.ylabel(\"Log of the Rank\")\n",
    "pl.plot(poplog, ranklog, 'r.')"
   ]
  },
  {
   "cell_type": "code",
   "execution_count": 3,
   "metadata": {},
   "outputs": [
    {
     "name": "stdout",
     "output_type": "stream",
     "text": [
      "Slope = -1.35 +/-  0.01\n",
      "Intercept =     21.28 +/-      0.08\n"
     ]
    },
    {
     "data": {
      "image/png": "[encoded data removed]",
      "text/plain": [
       "<Figure size 432x288 with 1 Axes>"
      ]
     },
     "metadata": {
      "needs_background": "light"
     },
     "output_type": "display_data"
    }
   ],
   "source": [
    "pl.plot(poplog, ranklog, 'r.')\n",
    "def line(x, m, b):\n",
    "    return (m * x)+ b\n",
    "par, cov = curve_fit(line, poplog, ranklog)\n",
    "m,b = par\n",
    "dm, db = np.sqrt(np.diag(cov))\n",
    "\n",
    "ibth = np.linspace(poplog.values[0], poplog.values[-1], 10)\n",
    "icth = line(ibth, m, b)\n",
    "pl.plot(ibth, icth, 'g-')\n",
    "pl.title(\"Graph of the log of Rank against the log of Population\")\n",
    "pl.xlabel(\"Log of the Population\")\n",
    "pl.ylabel(\"Log of the Rank\")\n",
    "print(\"Slope = %5.2f +/- %5.2f\" %(m,dm))\n",
    "print(\"Intercept = %9.2f +/- %9.2f\" %(b,db))"
   ]
  },
  {
   "cell_type": "markdown",
   "metadata": {},
   "source": [
    "As expected we get a slope really close to -1. We can see that the linear line almost fit perfectly to the scattered data points. We can find the correlation coefficient squared which shows how close the data are to the fitted regression line."
   ]
  },
  {
   "cell_type": "code",
   "execution_count": 5,
   "metadata": {},
   "outputs": [
    {
     "name": "stdout",
     "output_type": "stream",
     "text": [
      "R_squared value: 0.9958701561076587\n"
     ]
    }
   ],
   "source": [
    "def rsquared(poplog, ranklog):\n",
    "    \"\"\" Return R^2 where x and y are array-like.\"\"\"\n",
    "\n",
    "    slope, intercept, r_value, p_value, std_err = stats.linregress(poplog, ranklog)\n",
    "    return r_value**2\n",
    "print (\"R_squared value:\", rsquared(poplog, ranklog))"
   ]
  },
  {
   "cell_type": "markdown",
   "metadata": {},
   "source": [
    "We get an r-squared value of 0.996 which is really close to one. Which means the data fits to the regression line to a high degree."
   ]
  },
  {
   "cell_type": "markdown",
   "metadata": {},
   "source": [
    "## Conclusion\n",
    "In this lab we wanted to try curve fit some type of power law data. I applied zipf's rank and frequency law to the relationship between size of cities and population. I collected data for the rank of cities in size and their population and i plotted their logs against each other. For this relationship to obey some power law it should be able to be fitted in some kind of linear relationship with a slope of -1. I fitted this data and had a slope of -1.35  $\\pm$ 0.01 pretty much closed to what was expected. I aslo found the correlation coefficient to be about 0.996 which is close to 1 and it therefore siginifies a high level of correlation between data and the fit."
   ]
  }
 ],
 "metadata": {
  "kernelspec": {
   "display_name": "Python 3",
   "language": "python",
   "name": "python3"
  },
  "language_info": {
   "codemirror_mode": {
    "name": "ipython",
    "version": 3
   },
   "file_extension": ".py",
   "mimetype": "text/x-python",
   "name": "python",
   "nbconvert_exporter": "python",
   "pygments_lexer": "ipython3",
   "version": "3.8.3"
  }
 },
 "nbformat": 4,
 "nbformat_minor": 2
}
