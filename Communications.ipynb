{
 "cells": [
  {
   "cell_type": "markdown",
   "metadata": {},
   "source": [
    "# Project 4: Communication: RS-232, i2c, SPI. Null Hypothesis Significance Testing (NHST).\n",
    "## Abstract\n",
    "In this lab, we were to control the Arduino over the serial port to measure room temperature when it was high and low. We used an $i^2c$ based peripheral, SparkFun MAX30105 Particle Sensor, to measure the temperature. We measured the temperature when it was normal and when it was higher than normal. We made it higher than normal by turning on a gas cooker and measuring the temperature within that space. We were also meant to determine that we know the sensor was actually working by doing a hypothesis testing. The p-value gotten from the hypothesis testing when compared to a value, 13, really lower than the mean which was 37.74 difference between high and low temperature was 0.002. This means that the measured difference is statistically significant. The sensor is accurate to $\\pm$ 1C. \n",
    "## Description\n",
    "$i^2c$ is a serial protocol for two-wire interface to connect low-speed devices like microcontrollers, EEPROMs, A/D and D/A converters, I/O interfaces and other similar peripherals in embedded systems. We used the microcontroller, Arduino, to communicate with the MAX30105 Particle sensor and relay the data to the computer.\n",
    "The SparkFun MAX30105 Particle Sensor is a flexible and powerful sensor enabling sensing of distance, heart rate, particle detection, even the blinking of an eye. And in this lab, we used the sensor to measure temperature of the room temperature.\n",
    "## Schematic Background and Discussion\n",
    "To measure the temperature with the sensor, we had to build a circuit on the arduino. The circuit diagram built is shown in the figure below:"
   ]
  },
  {
   "cell_type": "markdown",
   "metadata": {},
   "source": [
    "![Fritzing_Hookup.jpg](Fritzing_Hookup.jpg)"
   ]
  },
  {
   "cell_type": "markdown",
   "metadata": {},
   "source": [
    "The GND/5V/SDA/SCL pin-out is the standard $i^2c$ connection on most of sparkfun products. This allows you to easily connect $i^2c$ boards. "
   ]
  },
  {
   "cell_type": "markdown",
   "metadata": {},
   "source": [
    "![I2C_Pins_MAX30105.jpg](I2C_Pins_MAX30105.jpg)"
   ]
  },
  {
   "cell_type": "markdown",
   "metadata": {},
   "source": [
    "The INT\tis an output pin for Interrupt, active low the GND pin is a\tsupply input for Ground (0V) supply. The 5V pin out is a supply input for power supply. The SDA is bi-directional, it is a $i^2c$ bus clock line. The SCL is an input pin, it is a\t$i^2c$ bus clock line.\n",
    "\n",
    "After building the circuit, we write an Arduino C code to compile and verify the temperature data. The purpose of this lab was to be able to let the computer communicate with the arduino, so we have to write a Python code on the computer to read the data from the arduino and store it.\n",
    "\n",
    "We stored this data on a csv file and carried out the data analysis and hypothesis testing to confirm if the sensor was actually measuring temperature by evaluating the p-value."
   ]
  },
  {
   "cell_type": "markdown",
   "metadata": {},
   "source": [
    "## Circuit Function, including code + data\n",
    "We programmed the Arduino with the following \"C\" program:"
   ]
  },
  {
   "cell_type": "markdown",
   "metadata": {},
   "source": [
    "    {\n",
    "      Serial.begin(9600);\n",
    "      Serial.println(\"Hello\");  // tell the computer we're ready\n",
    "      if (particleSensor.begin(Wire, I2C_SPEED_FAST) == false) \n",
    "      {\n",
    "        Serial.println(\"MAX30105 was not found. Please check wiring/power. \");\n",
    "        while (1);\n",
    "      }\n",
    "\n",
    "      //The LEDs are very low power and won't affect the temp reading much but\n",
    "      //you may want to turn off the LEDs to avoid any local heating\n",
    "      particleSensor.setup(0); //Configure sensor. Turn off LEDs\n",
    "      //particleSensor.setup(); //Configure sensor. Use 25mA for LED drive\n",
    "\n",
    "      particleSensor.enableDIETEMPRDY(); //Enable the temp ready interrupt. This is required.\n",
    "      Serial.println(\"Temperature (in K),\");\n",
    "    }\n",
    "\n",
    "    void loop()\n",
    "    {\n",
    "    char command;\n",
    "      if (Serial.available()>0) {          // are there characters to read?\n",
    "        command = (char)Serial.read();     // grab one\n",
    "        if (command=='g') {                // check it\n",
    "          for(int i = 0; i<120; i++){\n",
    "            float temperature = particleSensor.readTemperature(); //Returns the temperature of the IC in C\n",
    "            Serial.print(temperature + 273.15, 4);\n",
    "            //Serial.print(\"K\");\n",
    "            Serial.println(\",\");\n",
    "            delay(1000);\n",
    "          }\n",
    "        }\n",
    "      Serial.println(\"End\");  \n",
    "      while(0);\n",
    "      }\n",
    "    }"
   ]
  },
  {
   "cell_type": "markdown",
   "metadata": {},
   "source": [
    "The python code we used to communicate with the arduino, read and store data is shown below:"
   ]
  },
  {
   "cell_type": "markdown",
   "metadata": {},
   "source": [
    "    import serial\n",
    "\n",
    "    port = serial.Serial('COM4')                        # open the serial port (WIN)\n",
    "\n",
    "    print(\"Waiting for conversation...\")\n",
    "\n",
    "    s = port.readline().strip()             # read a line of input from the Arduino\n",
    "\n",
    "    print (\"got \",str(s))                   # echo to screen\n",
    "\n",
    "    while s != b'Hello':                    # check for \"Hello\"\n",
    "        s = port.readline().strip()         # not yet, try again\n",
    "        print (\"got \",str(s))\n",
    "\n",
    "    port.write(b'g')                        # send a command\n",
    "\n",
    "    s = port.readline().strip()             # get a reply\n",
    "\n",
    "    indexes = []\n",
    "\n",
    "    while s[:3] != b'End':                  # is it the end?\n",
    "        print(str(s))                       # nope, echo, repeat\n",
    "        data = s.decode()\n",
    "        if ',' in data:\n",
    "            index,value = data.split(',')\n",
    "            indexes.append(index)\n",
    "        s = port.readline().strip()\n",
    "\n",
    "    print (\"Finally got:\", str(s))          # that's it!\n",
    "    print (\"Finished!\")\n",
    "\n",
    "    port.close()                            # shut it down\n",
    "     #OYA"
   ]
  },
  {
   "cell_type": "markdown",
   "metadata": {},
   "source": [
    "## Data"
   ]
  },
  {
   "cell_type": "code",
   "execution_count": 22,
   "metadata": {},
   "outputs": [
    {
     "data": {
      "text/html": [
       "<div>\n",
       "<style scoped>\n",
       "    .dataframe tbody tr th:only-of-type {\n",
       "        vertical-align: middle;\n",
       "    }\n",
       "\n",
       "    .dataframe tbody tr th {\n",
       "        vertical-align: top;\n",
       "    }\n",
       "\n",
       "    .dataframe thead th {\n",
       "        text-align: right;\n",
       "    }\n",
       "</style>\n",
       "<table border=\"1\" class=\"dataframe\">\n",
       "  <thead>\n",
       "    <tr style=\"text-align: right;\">\n",
       "      <th></th>\n",
       "      <th>Time</th>\n",
       "      <th>Temperature</th>\n",
       "    </tr>\n",
       "  </thead>\n",
       "  <tbody>\n",
       "    <tr>\n",
       "      <td>0</td>\n",
       "      <td>1</td>\n",
       "      <td>296.6500</td>\n",
       "    </tr>\n",
       "    <tr>\n",
       "      <td>1</td>\n",
       "      <td>2</td>\n",
       "      <td>296.7125</td>\n",
       "    </tr>\n",
       "    <tr>\n",
       "      <td>2</td>\n",
       "      <td>3</td>\n",
       "      <td>296.6500</td>\n",
       "    </tr>\n",
       "    <tr>\n",
       "      <td>3</td>\n",
       "      <td>4</td>\n",
       "      <td>296.7125</td>\n",
       "    </tr>\n",
       "    <tr>\n",
       "      <td>4</td>\n",
       "      <td>5</td>\n",
       "      <td>296.6500</td>\n",
       "    </tr>\n",
       "    <tr>\n",
       "      <td>...</td>\n",
       "      <td>...</td>\n",
       "      <td>...</td>\n",
       "    </tr>\n",
       "    <tr>\n",
       "      <td>115</td>\n",
       "      <td>116</td>\n",
       "      <td>325.0875</td>\n",
       "    </tr>\n",
       "    <tr>\n",
       "      <td>116</td>\n",
       "      <td>117</td>\n",
       "      <td>324.7750</td>\n",
       "    </tr>\n",
       "    <tr>\n",
       "      <td>117</td>\n",
       "      <td>118</td>\n",
       "      <td>324.3375</td>\n",
       "    </tr>\n",
       "    <tr>\n",
       "      <td>118</td>\n",
       "      <td>119</td>\n",
       "      <td>323.4625</td>\n",
       "    </tr>\n",
       "    <tr>\n",
       "      <td>119</td>\n",
       "      <td>120</td>\n",
       "      <td>322.5875</td>\n",
       "    </tr>\n",
       "  </tbody>\n",
       "</table>\n",
       "<p>120 rows × 2 columns</p>\n",
       "</div>"
      ],
      "text/plain": [
       "     Time  Temperature\n",
       "0       1     296.6500\n",
       "1       2     296.7125\n",
       "2       3     296.6500\n",
       "3       4     296.7125\n",
       "4       5     296.6500\n",
       "..    ...          ...\n",
       "115   116     325.0875\n",
       "116   117     324.7750\n",
       "117   118     324.3375\n",
       "118   119     323.4625\n",
       "119   120     322.5875\n",
       "\n",
       "[120 rows x 2 columns]"
      ]
     },
     "execution_count": 22,
     "metadata": {},
     "output_type": "execute_result"
    }
   ],
   "source": [
    "%matplotlib inline\n",
    "import pandas as pd\n",
    "import matplotlib.pyplot as pl \n",
    "import numpy as np\n",
    "db = pd.read_csv('Output.csv')\n",
    "db"
   ]
  },
  {
   "cell_type": "code",
   "execution_count": 23,
   "metadata": {},
   "outputs": [
    {
     "data": {
      "text/plain": [
       "[<matplotlib.lines.Line2D at 0x205ad7ad548>]"
      ]
     },
     "execution_count": 23,
     "metadata": {},
     "output_type": "execute_result"
    },
    {
     "data": {
      "image/png": "[encoded data removed]",
      "text/plain": [
       "<Figure size 432x288 with 1 Axes>"
      ]
     },
     "metadata": {
      "needs_background": "light"
     },
     "output_type": "display_data"
    }
   ],
   "source": [
    "pl.title(\"Graph of temperature against time of a Temperature Sensor\")\n",
    "pl.xlabel(\"Time in seconds\")\n",
    "pl.ylabel(\"Temperature in Kelvin\")\n",
    "pl.plot(db.Time, db.Temperature, 'r.')"
   ]
  },
  {
   "cell_type": "markdown",
   "metadata": {},
   "source": [
    "We measured temeperature over 2 minutes. We started with measuring normal room temperature, then we measured the temepreature near an electric cooker that was turned on. We did this by moving the sensor close to the cooker. You can notice the constant temperature, then a hike in temperature, then a gradual decrease. All these are as a result of change in temperature conditions. This shows that the sensor was actually measuring temperature, but we are not totally show. That is why we were made to carry out hypothesis testing. We took a slice of normal room temperature and a slice of higher temperatures. We calculated the mean of each slice and found the mean difference. We know put these slices into one array and shuffles the array. Took out equal amounts of temperature data sets for two different arrays, evaluated the mean of each array and calculated the difference in means. We compared this to the original set of arrays by finding the p value. if the p value was above 5%, then data is statistically insignificant. This means it is not totally convincing that the sensor was measuring data temperature based on heat conditions. But if it is less than 5% we can say the sensor actually measured temperature over different heat conditions"
   ]
  },
  {
   "cell_type": "code",
   "execution_count": 24,
   "metadata": {},
   "outputs": [
    {
     "name": "stdout",
     "output_type": "stream",
     "text": [
      "Difference in original mean:  37.74062500000002\n"
     ]
    },
    {
     "data": {
      "text/plain": [
       "Text(0.5, 1.0, 'mean differences of shuffled data')"
      ]
     },
     "execution_count": 24,
     "metadata": {},
     "output_type": "execute_result"
    },
    {
     "data": {
      "image/png": "[encoded data removed]",
      "text/plain": [
       "<Figure size 432x288 with 1 Axes>"
      ]
     },
     "metadata": {
      "needs_background": "light"
     },
     "output_type": "display_data"
    }
   ],
   "source": [
    "N = 10000\n",
    "mean_diff = []\n",
    "t1 = db.Temperature[0:40]\n",
    "t2 = db.Temperature[47:87]\n",
    "t = np.append(t1,t2)\n",
    "t1_mean = t1.mean()\n",
    "t2_mean = t2.mean()\n",
    "diff = t2_mean - t1_mean\n",
    "print (\"Difference in original mean: \", diff)\n",
    "\n",
    "for i in range(N):\n",
    "    np.random.shuffle(t)                # stir the pot\n",
    "    t1mean_test = np.mean(t[:len(t1)]) # get mean of the first lot, like the original x1\n",
    "    t2mean_test = np.mean(t[len(t1):]) # get the mean of the second lot, like the original x2\n",
    "    mean_diff.append(t2mean_test - t1mean_test) # compute the difference of means and collect\n",
    "    \n",
    "mean_diff = np.array(mean_diff)  # convert to numpy array\n",
    "pl.hist(mean_diff,20)\n",
    "pl.grid()\n",
    "pl.title(\"mean differences of shuffled data\") "
   ]
  },
  {
   "cell_type": "code",
   "execution_count": 28,
   "metadata": {},
   "outputs": [
    {
     "data": {
      "text/plain": [
       "0.002"
      ]
     },
     "execution_count": 28,
     "metadata": {},
     "output_type": "execute_result"
    }
   ],
   "source": [
    "p_val = (mean_diff >= 13).sum()/N\n",
    "p_val"
   ]
  },
  {
   "cell_type": "markdown",
   "metadata": {},
   "source": [
    "When we evaluate the mean difference of the first data sets and compared it to the mean difference of the shuffled data, we got a p value of 0. Meaning the probability that an extreme mean difference result would arise by chance is zero. I dialled down the mean to 13 and found out the p value was 0.002. "
   ]
  },
  {
   "cell_type": "markdown",
   "metadata": {},
   "source": [
    "## Conclusion\n",
    "In this lab, we tried to make the computer communicate with an arduino circuit that was built to measure temperature using the $i^2c$ based peripheral. We wrote a python program that'll communicate with the arduino, read, and store temperature data values. We decided to confirm if these values were legit by carrying out hypothesis testing. We figured out that if the compared mean difference of actual data and various mean differences of shuffled data, we got a p-vale of 0.0, meaning statistically there was significant difference. We had to dial down the mean difference of the actual data to get a p-value we could use for analysis. We had a p value of 0.002 after this was done."
   ]
  },
  {
   "cell_type": "markdown",
   "metadata": {},
   "source": [
    "## Statistical Analysis"
   ]
  },
  {
   "cell_type": "code",
   "execution_count": 15,
   "metadata": {},
   "outputs": [
    {
     "data": {
      "text/plain": [
       "0.1288"
      ]
     },
     "execution_count": 15,
     "metadata": {},
     "output_type": "execute_result"
    },
    {
     "data": {
      "image/png": "[encoded data removed]",
      "text/plain": [
       "<Figure size 432x288 with 1 Axes>"
      ]
     },
     "metadata": {
      "needs_background": "light"
     },
     "output_type": "display_data"
    }
   ],
   "source": [
    "x1 = np.array([3.25466863, 2.97370402, 2.91113498, 3.4574893 , 3.17937048,\n",
    "       3.03048094, 3.21812428, 2.81350504, 2.9976349 , 2.97788408,\n",
    "       3.1813029 , 2.87498481, 2.90372449, 3.46095383, 3.11570786,\n",
    "       2.69100383, 2.97142051, 2.72968174, 2.48244642, 2.8584929 ])\n",
    "x2 = np.array([3.58365047, 3.04506491, 3.35190893, 2.76485786, 3.8494015 ,\n",
    "       3.17593123, 3.03499338, 2.31533078, 2.58647626, 3.47397813,\n",
    "       2.9985396 , 3.46170964, 3.23908075, 2.78904992, 3.000179  ,\n",
    "       3.23386923, 3.10856455, 3.24167989, 2.92353227, 3.09131427])\n",
    "iters = 10000\n",
    "all_data = np.append(x1, x2)  # put all the data in one pot\n",
    "mean_diffs = []\n",
    "for i in range(iters):\n",
    "    np.random.shuffle(all_data)                # stir the pot\n",
    "    x1_mean_test = np.mean(all_data[:len(x1)]) # get mean of the first lot, like the original x1\n",
    "    x2_mean_test = np.mean(all_data[len(x1):]) # get the mean of the second lot, like the original x2\n",
    "    mean_diffs.append(x2_mean_test - x1_mean_test) # compute the difference of means and collect\n",
    "    \n",
    "mean_diffs = np.array(mean_diffs)  # convert to numpy array\n",
    "pl.hist(mean_diffs,20)\n",
    "pl.grid()\n",
    "pl.title(\"mean differences of shuffled data\")\n",
    "p_value = (mean_diffs >= 0.109).sum()/iters\n",
    "p_value"
   ]
  },
  {
   "cell_type": "markdown",
   "metadata": {},
   "source": [
    "P value is way above 0.05, therefore, there is no statistically significant difference."
   ]
  }
 ],
 "metadata": {
  "kernelspec": {
   "display_name": "Python 3",
   "language": "python",
   "name": "python3"
  },
  "language_info": {
   "codemirror_mode": {
    "name": "ipython",
    "version": 3
   },
   "file_extension": ".py",
   "mimetype": "text/x-python",
   "name": "python",
   "nbconvert_exporter": "python",
   "pygments_lexer": "ipython3",
   "version": "3.8.3"
  }
 },
 "nbformat": 4,
 "nbformat_minor": 2
}
