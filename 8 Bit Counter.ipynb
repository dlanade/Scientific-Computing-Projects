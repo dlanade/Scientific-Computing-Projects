{
 "cells": [
  {
   "cell_type": "markdown",
   "metadata": {},
   "source": [
    "# Physics 230 Final Project: 8 Bit Counter\n",
    "## Abstract\n",
    "This final project is more like an extension of project 6 were we built a 3 bit digital counter circuit. This final project applies concepts of digital logic and hardware, including comparators, gates and flip-flops learned from project 6 to build a 8-bit digital synchronous counter circuit. This was built and simulated on TinkerCad. Counters are mainly used in counting applications, where they either measure the time interval between two unknown time instants or measure the frequency of a given signal. I confirmed this work using the concept that The maximum binary number that can be counted by the counter is $2^n - 1 $. This means it counts from 0 to 255 and resets to 0. This was observed in the simulation\n",
    "## Description and Schematic\n",
    "In digital logic and computing, a counter is a device which stores (and sometimes displays) the number of times a particular event or process has occurred, often in relationship to a clock. The most common type is a sequential digital logic circuit with an input line called the clock and multiple output lines. The values on the output lines represent a number in the binary or BCD number system. Each pulse applied to the clock input increments or decrements the number in the counter.\n",
    "\n",
    "A counter circuit is usually constructed of a number of flip-flops connected in cascade. Counters are a very widely used component in digital circuits, and are manufactured as separate integrated circuits and also incorporated as parts of larger integrated circuits.\n",
    "Below is an image of the circuit i built on TinkerCad and schematic from KiCad"
   ]
  },
  {
   "cell_type": "markdown",
   "metadata": {},
   "source": [
    "![FINAL.png](FINAL.png)\n",
    "![Kicad.png](Kicad.png)"
   ]
  },
  {
   "cell_type": "markdown",
   "metadata": {},
   "source": [
    "In the above image, the basic Synchronous counter design is shown which is Synchronous up counter. An 8-bit Synchronous up counter start to count from 0 and increment or count upwards to 255 and then start new counting cycle by getting reset. There is no propagation delay in the synchronous counter just because all flip-flops or counter stage is in parallel clock source and the clock triggers all counters at the same time.\n",
    "\n",
    "A comprator was used to supply voltage to the first flipflop. A comparator is a device that compares two voltages or currents and outputs a digital signal indicating which is larger. \n",
    "\n",
    "The external clock is directly provided to all J-K Flip-flops at the same time in a parallel way.  If we see the circuit, the first flip-flop, Flipflop 1B which is the least significant bit in this 8-bit synchronous counter, is connected to a comparator via J and K pin. \n",
    "\n",
    "Next stage, the second flip-flop 2A, input pin of J and K is connected across the output of the first Flip-flop. For the case of Flipflip 3B, Flipflop 4A, Flipflop 5B, Flipflop 6A, Flipflop 7B, Flipflop 8A, six separate AND gate provide the necessary logic across them. Those AND gates create logic using the input and output from the previous stage flip-flops.\n",
    "\n",
    "LED's were connected to each flipflop to indicate the binary. If the LED is on it represents a binary code of 1, if it's off, it represents a binary code of 0."
   ]
  },
  {
   "cell_type": "markdown",
   "metadata": {},
   "source": [
    "## Conclusion\n",
    "This final project was an extension of project 6 which was all about understanding how logic gates, flipflops, and comparators work. We tried to build an 8 bit synchronous circuit. We did this using eight flipflops and six And gates. I have always thought about And gates as a multiplier kind of gate as you can have a High outpit if and only if both inputs are High. An 8 bit couter should have count from 0 to 255 where all flipflops produce 1, then it restarts. We used an LED to figure out the counts. "
   ]
  }
 ],
 "metadata": {
  "kernelspec": {
   "display_name": "Python 3",
   "language": "python",
   "name": "python3"
  },
  "language_info": {
   "codemirror_mode": {
    "name": "ipython",
    "version": 3
   },
   "file_extension": ".py",
   "mimetype": "text/x-python",
   "name": "python",
   "nbconvert_exporter": "python",
   "pygments_lexer": "ipython3",
   "version": "3.8.3"
  }
 },
 "nbformat": 4,
 "nbformat_minor": 2
}
