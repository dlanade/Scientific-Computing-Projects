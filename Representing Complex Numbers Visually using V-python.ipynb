{
 "cells": [
  {
   "cell_type": "markdown",
   "metadata": {},
   "source": [
    "# Representing Complex Numbers Visually using Vpython"
   ]
  },
  {
   "cell_type": "code",
   "execution_count": null,
   "metadata": {},
   "outputs": [],
   "source": [
    "from vpython import *\n",
    "from numpy import *\n",
    "from vpython import rate"
   ]
  },
  {
   "cell_type": "code",
   "execution_count": null,
   "metadata": {},
   "outputs": [],
   "source": [
    "canvas()\n",
    "i=1j                            # Let's use 'i' for \"imaginary\"\n",
    "a = arrow(color=color.red)      # red is a nice color\n",
    "z = 2*exp(i*pi/4.0)\n",
    "b = 0.01\n",
    "c = exp(i*b)\n",
    "count=0\n",
    "\n",
    "def SetArrowFromCN( cn, a):\n",
    "    \"\"\"\n",
    "    SetArrowWithCN takes a complex number 'cn' and an arrow object 'a'.\n",
    "    It sets the 'x' and 'y' components of the arrow's axis to the real\n",
    "    and imaginary parts of the given complex number.\n",
    "    \"\"\"\n",
    "    a.axis.x = cn.real\n",
    "    a.axis.y = cn.imag\n",
    "\n",
    "SetArrowFromCN(z, a)"
   ]
  },
  {
   "cell_type": "code",
   "execution_count": null,
   "metadata": {},
   "outputs": [],
   "source": [
    "z.real"
   ]
  },
  {
   "cell_type": "code",
   "execution_count": null,
   "metadata": {},
   "outputs": [],
   "source": [
    "b = 0\n",
    "while b < 628:\n",
    "    mags = abs(z)\n",
    "    SetArrowFromCN(z, a)\n",
    "    rate(100)\n",
    "    p = arctan(z.imag/z.real)\n",
    "    print(z, mags, p)\n",
    "    z = z * c\n",
    "    b = b + 1"
   ]
  },
  {
   "cell_type": "markdown",
   "metadata": {},
   "source": [
    "## Questions"
   ]
  },
  {
   "cell_type": "markdown",
   "metadata": {},
   "source": [
    "# 1.\n",
    "\n",
    "There is hardly any change in the magnitude of the complex number, cn, because it is multiplied by a phase of magnitude 1.\n",
    "\n",
    "# 2.\n",
    "From the animation, the vector moves in an anticlockwise direction, we can picture how the phase changes by using the quadrant graph. It is positive above the x-axis and negative below the x-axis.\n",
    "\n",
    "# 3. \n",
    "A full cycle can be modelled as the circumference of a circle of radius 1. I divided $2\\pi$ by the pure phase. This gave the approximate number of iterations in order to complete a full cycle. We should also notice that the phase angle returns somewhere close to its starting point after one full cycle.\n",
    "\n",
    "# 4.\n",
    "Using Euler's formula:\n",
    "\n",
    "$$e^{i\\theta} = cos(\\theta) + isin(\\theta) $$\n",
    "$$e^{i0.01} = cos(0.01) + isin(0.01) $$\n",
    "$$ c \\approx  1 + 0.01i$$\n",
    "\n",
    "We know that the cartesian form of z is:\n",
    "$$ z = 1.414 + 1.414i $$\n",
    "\n",
    "TO confirm the cartesian number has the same effect as the phase, after multiplying c by z once, we should get:\n",
    "$$ z * c = 1.4 + 1.428i $$ \n",
    "or a phasor of magnitude 2 and phase angle of 0.795 as read from the second line of printed z's.\n",
    "\n",
    "$$ z * c = (1.414 + 1.414i)(1 + 0.01i) = 1.414 + (0.01414 + 1.414)i - 0.01414 $$\n",
    "$$ z * c = 1.414 + 1.428i $$\n",
    "Phase angle  = $$tan^-1(\\frac{1.428}{1.414}) = 0.79 $$"
   ]
  },
  {
   "cell_type": "code",
   "execution_count": null,
   "metadata": {},
   "outputs": [],
   "source": []
  }
 ],
 "metadata": {
  "kernelspec": {
   "display_name": "Python 3",
   "language": "python",
   "name": "python3"
  },
  "language_info": {
   "codemirror_mode": {
    "name": "ipython",
    "version": 3
   },
   "file_extension": ".py",
   "mimetype": "text/x-python",
   "name": "python",
   "nbconvert_exporter": "python",
   "pygments_lexer": "ipython3",
   "version": "3.8.3"
  }
 },
 "nbformat": 4,
 "nbformat_minor": 4
}
