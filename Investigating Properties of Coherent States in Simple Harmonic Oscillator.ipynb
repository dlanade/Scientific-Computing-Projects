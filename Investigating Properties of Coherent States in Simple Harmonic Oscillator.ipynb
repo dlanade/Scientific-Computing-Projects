{
 "cells": [
  {
   "cell_type": "markdown",
   "metadata": {},
   "source": [
    "# Investigating Properties of Coherent States in Simple Harmonic Oscillator"
   ]
  },
  {
   "cell_type": "code",
   "execution_count": 1,
   "metadata": {},
   "outputs": [
    {
     "data": {
      "text/html": [
       "<div id=\"glowscript\" class=\"glowscript\"></div>"
      ],
      "text/plain": [
       "<IPython.core.display.HTML object>"
      ]
     },
     "metadata": {},
     "output_type": "display_data"
    },
    {
     "data": {
      "application/javascript": [
       "if (typeof Jupyter !== \"undefined\") { window.__context = { glowscript_container: $(\"#glowscript\").removeAttr(\"id\")};}else{ element.textContent = ' ';}"
      ],
      "text/plain": [
       "<IPython.core.display.Javascript object>"
      ]
     },
     "metadata": {},
     "output_type": "display_data"
    },
    {
     "data": {
      "text/html": [
       "<div id=\"glowscript\" class=\"glowscript\"></div>"
      ],
      "text/plain": [
       "<IPython.core.display.HTML object>"
      ]
     },
     "metadata": {},
     "output_type": "display_data"
    },
    {
     "data": {
      "application/javascript": [
       "if (typeof Jupyter !== \"undefined\") { window.__context = { glowscript_container: $(\"#glowscript\").removeAttr(\"id\")};}else{ element.textContent = ' ';}"
      ],
      "text/plain": [
       "<IPython.core.display.Javascript object>"
      ]
     },
     "metadata": {},
     "output_type": "display_data"
    }
   ],
   "source": [
    "import vpython as vp\n",
    "import matplotlib.pyplot as pl\n",
    "import numpy as np\n",
    "from vpython import rate \n",
    "vp.canvas()"
   ]
  },
  {
   "cell_type": "code",
   "execution_count": 2,
   "metadata": {},
   "outputs": [],
   "source": [
    "def SetArrowFromCN( cn, a):\n",
    "    \"\"\"\n",
    "    SetArrowWithCN takes a complex number  cn  and an arrow object  a .\n",
    "    It sets the  y  and  z  components of the arrow s axis to the real \n",
    "    and imaginary parts of the given complex number. \n",
    "    \n",
    "    Just like Computing Project 1, except y and z for real/imag.\n",
    "    \"\"\"\n",
    "    a.axis.y = cn.real\n",
    "    a.axis.z = cn.imag\n",
    "    a.axis.x = 0.0"
   ]
  },
  {
   "cell_type": "code",
   "execution_count": 5,
   "metadata": {},
   "outputs": [
    {
     "data": {
      "text/html": [
       "<div id=\"glowscript\" class=\"glowscript\"></div>"
      ],
      "text/plain": [
       "<IPython.core.display.HTML object>"
      ]
     },
     "metadata": {},
     "output_type": "display_data"
    },
    {
     "data": {
      "application/javascript": [
       "if (typeof Jupyter !== \"undefined\") { window.__context = { glowscript_container: $(\"#glowscript\").removeAttr(\"id\")};}else{ element.textContent = ' ';}"
      ],
      "text/plain": [
       "<IPython.core.display.Javascript object>"
      ]
     },
     "metadata": {},
     "output_type": "display_data"
    }
   ],
   "source": [
    "vp.canvas()\n",
    "gd = vp.graph(xtitle=\"t\", ytitle=\"Expectation\", width=400, height=300)\n",
    "gr = vp.gcurve(color = vp.color.black)\n",
    "\n",
    "NA=80                          # how many arrows?\n",
    "a=15.0                         # range of x is -a/2 to a/2 in units \n",
    "                               # of $\\sqrt{\\hbar/m\\omega}$\n",
    "x = np.linspace(-a/2, a/2, NA)    # NA locations from -a/2 to a/2\n",
    "\n",
    "NHs = 20\n",
    "hs = np.zeros((NHs,NA), np.double)    # the hermite polynomials, an NHs x NA array\n",
    "coefs = np.zeros(NHs,np.double)      # the coherent state coefficients, an NHs x 1 array\n",
    "psis = np.zeros((NHs,NA), np.double) # the stationary states, an NHs x NA array\n",
    "\n",
    "alpha = np.sqrt(10)               # <n> = 10.0\n",
    "\n",
    "hs[0] = 0*x + 1.0              # zeroth Hermite Polynomial, H0\n",
    "hs[1] = 2*x                    # first Hermite Polynomial, H1\n",
    "\n",
    "#\n",
    "# Compute the first NHs Hermite Polynomials,\n",
    "# use recurrence relation to get the rest of the Hn(x)\n",
    "#\n",
    "# (see e.g., http://en.wikipedia.org/wiki/Hermite_polynomials#Recursion_relation)\n",
    "#\n",
    "\n",
    "for n in range(1,NHs-1):\n",
    "    hs[n+1]=2*x*hs[n] - 2*n*hs[n-1]\n",
    "\n",
    "#\n",
    "# Use the coherent state coefficient relation to get the c[n]s.\n",
    "# avoid overflow by computing them in a loop. Don't worry about \n",
    "# the overall factor of c[0] since we'll renormalize our discrete \n",
    "# psi array later anyway.\n",
    "#\n",
    "\n",
    "coefs[0]=1.0 * np.exp(-alpha**2)\n",
    "for i in range(1,NHs):\n",
    "    coefs[i]=coefs[i-1]*alpha/np.sqrt(i)\n",
    "\n",
    "#\n",
    "# Get the stationary states using the hs array and compute the \n",
    "# normalization factor in a loop to avoid overflow\n",
    "#\n",
    "\n",
    "normFactor = 1.0/np.pi**0.25\n",
    "psis[0] = np.exp(-x**2/2)\n",
    "for i in range(1,NHs):\n",
    "    normFactor = normFactor/np.sqrt(2.0*i)\n",
    "    psis[i]=normFactor*hs[i]* np.exp(-x**2/2)\n",
    "    \n",
    "#\n",
    "# Now do the sum to compute the initial wavefunction\n",
    "#\n",
    "\n",
    "psi = np.zeros(len(x),complex)\n",
    "for m in range(NHs):\n",
    "    psi += coefs[m]*psis[m]\n",
    "\n",
    "#\n",
    "# Normalize!\n",
    "#\n",
    "\n",
    "psi=psi/np.sqrt((abs(psi)**2).sum())\n",
    "\n",
    "#\n",
    "# build the arrows. Scale them on the screen by a factor \n",
    "# of 3 so they look nice.\n",
    "#\n",
    "\n",
    "alist = []\n",
    "for i in range(NA):\n",
    "    alist.append(vp.arrow(pos=vp.vec(x[i],0,0), color= vp.color.red))\n",
    "    SetArrowFromCN(3*psi[i],alist[i])\n",
    "\n",
    "vp.scene.autoscale = False\n",
    "t = 0.0\n",
    "dt = 2*np.pi/1000.0\n",
    "\n",
    "rate(100)\n",
    "\n",
    "#\n",
    "# After this.. create the \"time loop\" that animates the wavefunction\n",
    "# and computes the values for <x> and graphs them. \n",
    "#\n"
   ]
  },
  {
   "cell_type": "markdown",
   "metadata": {},
   "source": [
    "![Coherent.png](Coherent.png)\n",
    "![Expectation.png](Expectation.png)"
   ]
  },
  {
   "cell_type": "code",
   "execution_count": 6,
   "metadata": {},
   "outputs": [],
   "source": [
    "def timeloop(t):\n",
    "    psi = np.zeros(len(x),complex)\n",
    "    for m in range(NHs):\n",
    "        psi += coefs[m] * psis[m]*np.exp(-1j*(0.5 + m)*t)\n",
    "    psi = psi/np.sqrt((abs(psi)**2).sum()) \n",
    "    for i in range(NA):\n",
    "        SetArrowFromCN(3*psi[i],alist[i])\n",
    "    expect = (x*(abs(psi)**2)).sum()\n",
    "    gr.plot(pos=(t, expect))\n",
    "    \n",
    "vp.scene.autoscale = False\n",
    "t = 0.0\n",
    "dt = 2*np.pi/1000.0\n",
    "while t < 4*np.pi:\n",
    "    rate(100)\n",
    "    timeloop(t)\n",
    "    t+=dt"
   ]
  },
  {
   "cell_type": "markdown",
   "metadata": {},
   "source": [
    "# Questions"
   ]
  },
  {
   "cell_type": "markdown",
   "metadata": {},
   "source": [
    "# 1.\n",
    "\n",
    "$$ \\psi_{\\alpha} = c_{0} \\sum_{n = 0}^{\\infty} \\frac{\\alpha}{\\sqrt{n!}} \\psi_{n}$$\n",
    "$$ 1 = c^2_{0} \\sum_{n = 0}^{\\infty} \\frac{\\alpha^{2n}}{n!} $$\n",
    "$$ 1 = c^2_{0} e^{\\alpha^{2}} $$\n",
    "$$ e^{-\\alpha^2} = c^2_{0} $$\n",
    "$$ c_{0} = e^{\\frac{-\\alpha^2}{2}} $$\n",
    "\n",
    "# 2.\n",
    "\n",
    "$$ \\langle n \\rangle = e^{\\frac{-\\alpha^2}{2}2} \\sum_{n = 0}^{\\infty} \\frac{\\alpha^{2n}}{n!}n $$\n",
    "$$ \\langle n \\rangle = e^{-\\alpha^2} \\lvert \\alpha^{2}\\rvert \\sum_{n = 1}^{\\infty} \\frac{\\alpha^{2n-2}}{(n-1)!} \\frac {n}{n} $$\n",
    "$$ \\langle n \\rangle = e^{-\\alpha^2} \\lvert \\alpha^{2}\\rvert \\sum_{n = 1}^{\\infty} \\frac{\\alpha^{2n-2}}{(n-1)!} $$\n",
    "$$ \\langle n \\rangle = e^{-\\alpha^2} \\lvert \\alpha^{2}\\rvert \\sum_{n = 0}^{\\infty} \\frac{\\alpha^{2n}}{n!} $$\n",
    "$$ \\langle n \\rangle = e^{-\\alpha^2} \\lvert \\alpha^{2}\\rvert e^{\\alpha^2} $$\n",
    "$$ \\langle n \\rangle = \\lvert \\alpha^{2}\\rvert  $$\n",
    "\n",
    "# 3.\n",
    "\n",
    "$$ E_{n} = \\hbar \\omega ( n + \\frac{1}{2}) $$\n",
    "$$ \\langle E \\rangle = \\sum_{n = 1}^{\\infty} P_{n} E_{n} $$\n",
    "$$ \\hbar \\omega \\langle n \\rangle + \\frac{\\hbar \\omega}{2} $$\n",
    "$$ \\frac{kx^2}{2} = \\hbar \\omega \\alpha ^ 2 $$ \n",
    "$$ x =  \\sqrt{\\frac {2 \\hbar \\omega}{k}} \\alpha$$\n",
    "$$ x =  \\sqrt{\\frac {2 \\hbar \\omega}{m \\omega}} \\alpha$$\n",
    "$$ x =  \\sqrt{\\frac {2 \\hbar}{m}} \\alpha$$"
   ]
  },
  {
   "cell_type": "code",
   "execution_count": 7,
   "metadata": {},
   "outputs": [
    {
     "data": {
      "text/plain": [
       "[<matplotlib.lines.Line2D at 0x1fe55c789d0>]"
      ]
     },
     "execution_count": 7,
     "metadata": {},
     "output_type": "execute_result"
    },
    {
     "data": {
      "image/png": "[encoded data removed]",
      "text/plain": [
       "<Figure size 432x288 with 1 Axes>"
      ]
     },
     "metadata": {
      "needs_background": "light"
     },
     "output_type": "display_data"
    }
   ],
   "source": [
    "hbar = 1.0545718e-34 \n",
    "m = 9.10938356e-31\n",
    "alpha = np.linspace(1, 50, 100)\n",
    "x = np.sqrt((2*hbar)/m) * alpha\n",
    "pl.plot(alpha, x) "
   ]
  }
 ],
 "metadata": {
  "kernelspec": {
   "display_name": "Python 3",
   "language": "python",
   "name": "python3"
  },
  "language_info": {
   "codemirror_mode": {
    "name": "ipython",
    "version": 3
   },
   "file_extension": ".py",
   "mimetype": "text/x-python",
   "name": "python",
   "nbconvert_exporter": "python",
   "pygments_lexer": "ipython3",
   "version": "3.8.3"
  }
 },
 "nbformat": 4,
 "nbformat_minor": 4
}
